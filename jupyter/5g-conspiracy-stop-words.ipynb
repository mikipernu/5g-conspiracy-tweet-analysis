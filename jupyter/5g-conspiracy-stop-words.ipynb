{
 "cells": [
  {
   "cell_type": "code",
   "execution_count": 1,
   "metadata": {},
   "outputs": [],
   "source": [
    "#import libraries\n",
    "import re\n",
    "import nltk\n",
    "import sklearn\n",
    "import os\n",
    "import numpy as np\n",
    "import pandas as pd\n",
    "pd.options.mode.chained_assignment = None  # default='warn'"
   ]
  },
  {
   "cell_type": "code",
   "execution_count": 2,
   "metadata": {},
   "outputs": [],
   "source": [
    "# Update path for your file\n",
    "tweets_5G = 'PATH_TO_CONFIRMED_CONSPIRACY_TWEETS_DATASET.csv'\n",
    "\n",
    "tweet_data = pd.read_csv(tweets_5G, sep = \",\", engine='python')"
   ]
  },
  {
   "cell_type": "code",
   "execution_count": 3,
   "metadata": {},
   "outputs": [
    {
     "data": {
      "text/plain": [
       "(630, 19)"
      ]
     },
     "execution_count": 3,
     "metadata": {},
     "output_type": "execute_result"
    }
   ],
   "source": [
    "# remove all rows with non-English tweet text content, as per Twitter's machine-detection\n",
    "# https://towardsdatascience.com/how-to-filter-rows-of-a-pandas-dataframe-by-column-value-51996ea621f8\n",
    "\n",
    "lang_truth_table = tweet_data.lang.str.contains('en')\n",
    "tweets = tweet_data[lang_truth_table]\n",
    "tweets.shape"
   ]
  },
  {
   "cell_type": "code",
   "execution_count": 4,
   "metadata": {},
   "outputs": [
    {
     "name": "stdout",
     "output_type": "stream",
     "text": [
      "Number of rows removed: 757/1387\n",
      "Percentage of English-language tweets is 45.4%\n"
     ]
    }
   ],
   "source": [
    "print('Number of rows removed: ' + str(tweet_data.shape[0] - tweets.shape[0]) + '/' + str(tweet_data.shape[0]) + '')\n",
    "print('Percentage of English-language tweets is ' + str(round(tweets.shape[0] / tweet_data.shape[0] * 100, 1)) + '%')"
   ]
  },
  {
   "cell_type": "code",
   "execution_count": 5,
   "metadata": {},
   "outputs": [],
   "source": [
    "# drop unnecessary columns \n",
    "# https://cmdlinetips.com/2018/04/how-to-drop-one-or-more-columns-in-pandas-dataframe/\n",
    "\n",
    "tweets = tweets.drop(['from_user', 'lang', 'time', 'user_followers_count', 'user_friends_count', 'favorite_count        ', 'retweet_count        ', 'created_at', 'in_reply_to_user_id_str', 'in_reply_to_screen_name', 'from_user_id_str', 'in_reply_to_status_id_str',  'source',  'profile_image_url',  'user_location',  'status_url',  'entities_str'], axis=1)"
   ]
  },
  {
   "cell_type": "code",
   "execution_count": 6,
   "metadata": {},
   "outputs": [],
   "source": [
    "# extract hashtags from tweet text content and create new column 'hashtags' in lower case\n",
    "# https://towardsdatascience.com/basic-tweet-preprocessing-in-python-efd8360d529e\n",
    "\n",
    "def lower_case(x):\n",
    "    result = []\n",
    "    for word in x:\n",
    "        result.append(word.lower())\n",
    "    return result\n",
    "\n",
    "tweets['hashtags'] = tweets['text'].apply(lambda x: re.findall(r\"#(\\w+)\", x))\n",
    "tweets['hashtags'] = tweets['hashtags'].apply(lambda x: lower_case(x))"
   ]
  },
  {
   "cell_type": "code",
   "execution_count": 7,
   "metadata": {},
   "outputs": [],
   "source": [
    "# clean tweets from url's, mentions, hashtags, reserved words (RT, FAV), emojis and smileys, and numbers\n",
    "# also, makes the cleaned text lowercase\n",
    "\n",
    "import preprocessor as p\n",
    "p.set_options(p.OPT.URL, p.OPT.MENTION, p.OPT.HASHTAG, p.OPT.RESERVED, p.OPT.EMOJI, p.OPT.SMILEY)\n",
    "list = []\n",
    "\n",
    "for i,v in enumerate(tweets['text']):\n",
    "    list.append( p.clean(v).lower() )\n",
    "    \n",
    "tweets['text_cleaned'] = list"
   ]
  },
  {
   "cell_type": "code",
   "execution_count": 8,
   "metadata": {},
   "outputs": [],
   "source": [
    "# remove extra white spaces and punctuation\n",
    "\n",
    "list = []\n",
    "\n",
    "for i,v in enumerate(tweets['text_cleaned']):\n",
    "    tweet = re.sub('&amp;', '', v)\n",
    "    tweet = re.sub('[^\\w\\s]', '', tweet)\n",
    "    tweet = re.sub('\\s\\s+', ' ', tweet)\n",
    "    \n",
    "    if tweet[0] == ' ':\n",
    "        tweet = tweet[1:]\n",
    "    \n",
    "    list.append(tweet)\n",
    "\n",
    "tweets['text_cleaned'] = list"
   ]
  },
  {
   "cell_type": "code",
   "execution_count": 9,
   "metadata": {},
   "outputs": [],
   "source": [
    "# remove stop words with gensim\n",
    "# https://www.kaggle.com/sreejiths0/efficient-tweet-preprocessing\n",
    "\n",
    "from gensim.parsing.preprocessing import remove_stopwords\n",
    "\n",
    "list = []\n",
    "\n",
    "for i,v in enumerate(tweets['text_cleaned']):\n",
    "    text = remove_stopwords(v)\n",
    "    list.append(text)\n",
    "\n",
    "tweets['text_cleaned'] = list"
   ]
  },
  {
   "cell_type": "code",
   "execution_count": 10,
   "metadata": {},
   "outputs": [
    {
     "data": {
      "text/plain": [
       "(615, 4)"
      ]
     },
     "execution_count": 10,
     "metadata": {},
     "output_type": "execute_result"
    }
   ],
   "source": [
    "# remove rows which feature only one word in cleaned text\n",
    "\n",
    "lang_truth_table = tweets.text_cleaned.str.contains(' ')\n",
    "tweets = tweets[lang_truth_table]\n",
    "\n",
    "tweets.shape"
   ]
  },
  {
   "cell_type": "code",
   "execution_count": 38,
   "metadata": {},
   "outputs": [],
   "source": [
    "# create new column with words of a tweet as a list\n",
    "\n",
    "list = []\n",
    "\n",
    "for i,v in enumerate(tweets['text_cleaned']):\n",
    "    words = v.split(' ')\n",
    "    list.append(words)\n",
    "\n",
    "tweets['words_cleaned'] = list"
   ]
  },
  {
   "cell_type": "code",
   "execution_count": 12,
   "metadata": {},
   "outputs": [
    {
     "data": {
      "text/plain": [
       "0     [prevent, discovering, grey, spreading, leylines]\n",
       "2     [john, fitzgerald, kennedy, told, truth, thats...\n",
       "3                                         [thread, web]\n",
       "9     [danger, 5g, network, radiation, smartphones, ...\n",
       "16                                 [trying, tell, yall]\n",
       "Name: words_cleaned, dtype: object"
      ]
     },
     "execution_count": 12,
     "metadata": {},
     "output_type": "execute_result"
    }
   ],
   "source": [
    "# lemmatization\n",
    "\n",
    "from nltk.stem import WordNetLemmatizer\n",
    "\n",
    "lemmatizer = WordNetLemmatizer()\n",
    "\n",
    "def get_lemma(x):\n",
    "    lemmatizer = WordNetLemmatizer()\n",
    "    return [lemmatizer.lemmatize(words) for words in x]\n",
    "\n",
    "tweets['words_cleaned'] = tweets['words_cleaned'].apply(lambda x : get_lemma(x))\n",
    "tweets['words_cleaned'].head(5)"
   ]
  },
  {
   "cell_type": "code",
   "execution_count": 13,
   "metadata": {},
   "outputs": [
    {
     "data": {
      "text/plain": [
       "0     [prevent, discovering, grey, spreading, leylines]\n",
       "2     [john, fitzgerald, kennedy, told, truth, thats...\n",
       "3                                         [thread, web]\n",
       "9     [danger, 5g, network, radiation, smartphones, ...\n",
       "16                                 [trying, tell, yall]\n",
       "18    [dr, andrew, kaufman, clearly, mention, insult...\n",
       "20    [film, american, shot, shelter, place, english...\n",
       "Name: words_cleaned, dtype: object"
      ]
     },
     "execution_count": 13,
     "metadata": {},
     "output_type": "execute_result"
    }
   ],
   "source": [
    "# removal of duplicate words\n",
    "# https://stackoverflow.com/questions/8200342/removing-duplicate-strings-from-a-list-in-python\n",
    "def remove_duplicates(x):\n",
    "    seen = set()\n",
    "    result = []\n",
    "    for word in x:\n",
    "        if word not in seen:\n",
    "            seen.add(word)\n",
    "            result.append(word)\n",
    "    return result\n",
    "\n",
    "tweets['words_cleaned'] = tweets['words_cleaned'].apply(lambda x : remove_duplicates(x))\n",
    "tweets['words_cleaned'].head(7)"
   ]
  },
  {
   "cell_type": "code",
   "execution_count": 14,
   "metadata": {},
   "outputs": [
    {
     "data": {
      "text/plain": [
       "0     [prevent, discovering, grey, spreading, leylines]\n",
       "2     [john, fitzgerald, kennedy, told, truth, thats...\n",
       "3                                         [thread, web]\n",
       "9     [danger, network, radiation, smartphones, secret]\n",
       "16                                 [trying, tell, yall]\n",
       "18    [andrew, kaufman, clearly, mention, insult, ca...\n",
       "20    [film, american, shot, shelter, place, english...\n",
       "21                                        [run, rabbit]\n",
       "22    [corona, virus, hoax, fake, death, mike, decke...\n",
       "24    [seen, video, guy, claiming, new, british, pou...\n",
       "32    [2nd, spike, shut, antimaskers, hysterical, ph...\n",
       "35                                  [spectrum, defence]\n",
       "36    [coronavirus, youtube, tightens, rule, david, ...\n",
       "37                                     [download, asap]\n",
       "38                              [omg, look, real, fact]\n",
       "47    [patent, research, nervous, manipulation, elec...\n",
       "49             [here, video, appears, purporting, need]\n",
       "50    [havent, heard, need, aware, here, appears, vi...\n",
       "51    [havent, heard, need, aware, here, appears, vi...\n",
       "52               [arent, listening, scientist, warning]\n",
       "Name: words_cleaned, dtype: object"
      ]
     },
     "execution_count": 14,
     "metadata": {},
     "output_type": "execute_result"
    }
   ],
   "source": [
    "# removal of words and strings with a length of one (e.g. 'w/' i.e. 'w', which is a stopword)\n",
    "# ALSO we allow removing '5g', since its a collection word (we are using it to fetch the data)\n",
    "\n",
    "def remove_one_character_strings(x):\n",
    "    result = []\n",
    "    for word in x:\n",
    "        if len(word) > 2 or word == '4g' or word == '3g':\n",
    "            result.append(word)\n",
    "    return result\n",
    "\n",
    "tweets['words_cleaned'] = tweets['words_cleaned'].apply(lambda x : remove_one_character_strings(x))\n",
    "tweets['words_cleaned'].head(20)"
   ]
  },
  {
   "cell_type": "code",
   "execution_count": null,
   "metadata": {},
   "outputs": [],
   "source": []
  },
  {
   "cell_type": "code",
   "execution_count": 15,
   "metadata": {},
   "outputs": [],
   "source": [
    "# ______ MOST COMMON WORDS _______"
   ]
  },
  {
   "cell_type": "code",
   "execution_count": null,
   "metadata": {},
   "outputs": [],
   "source": []
  },
  {
   "cell_type": "code",
   "execution_count": 16,
   "metadata": {},
   "outputs": [
    {
     "data": {
      "text/plain": [
       "[('radiation', 122),\n",
       " ('people', 52),\n",
       " ('tower', 51),\n",
       " ('health', 48),\n",
       " ('video', 36),\n",
       " ('stop', 36),\n",
       " ('world', 36),\n",
       " ('technology', 33),\n",
       " ('virus', 32),\n",
       " ('wireless', 32),\n",
       " ('share', 30),\n",
       " ('vaccine', 29),\n",
       " ('emf', 27),\n",
       " ('microwave', 26),\n",
       " ('safety', 25)]"
      ]
     },
     "execution_count": 16,
     "metadata": {},
     "output_type": "execute_result"
    }
   ],
   "source": [
    "# flatten list of all words in all tweets and create a list of collections with the words and their counts\n",
    "\n",
    "import itertools\n",
    "import collections\n",
    "\n",
    "# clear list variable, since it gets initialized for some reason\n",
    "# and this then breaks the following \n",
    "del list\n",
    "\n",
    "# List of all words across tweets\n",
    "all_words = list(itertools.chain(*tweets['words_cleaned']))\n",
    "\n",
    "# Create counter\n",
    "counts = collections.Counter(all_words)\n",
    "\n",
    "counts.most_common(15)"
   ]
  },
  {
   "cell_type": "code",
   "execution_count": 17,
   "metadata": {},
   "outputs": [
    {
     "data": {
      "text/html": [
       "<div>\n",
       "<style scoped>\n",
       "    .dataframe tbody tr th:only-of-type {\n",
       "        vertical-align: middle;\n",
       "    }\n",
       "\n",
       "    .dataframe tbody tr th {\n",
       "        vertical-align: top;\n",
       "    }\n",
       "\n",
       "    .dataframe thead th {\n",
       "        text-align: right;\n",
       "    }\n",
       "</style>\n",
       "<table border=\"1\" class=\"dataframe\">\n",
       "  <thead>\n",
       "    <tr style=\"text-align: right;\">\n",
       "      <th></th>\n",
       "      <th>words</th>\n",
       "      <th>count</th>\n",
       "    </tr>\n",
       "  </thead>\n",
       "  <tbody>\n",
       "    <tr>\n",
       "      <th>0</th>\n",
       "      <td>radiation</td>\n",
       "      <td>122</td>\n",
       "    </tr>\n",
       "    <tr>\n",
       "      <th>1</th>\n",
       "      <td>people</td>\n",
       "      <td>52</td>\n",
       "    </tr>\n",
       "    <tr>\n",
       "      <th>2</th>\n",
       "      <td>tower</td>\n",
       "      <td>51</td>\n",
       "    </tr>\n",
       "    <tr>\n",
       "      <th>3</th>\n",
       "      <td>health</td>\n",
       "      <td>48</td>\n",
       "    </tr>\n",
       "    <tr>\n",
       "      <th>4</th>\n",
       "      <td>video</td>\n",
       "      <td>36</td>\n",
       "    </tr>\n",
       "    <tr>\n",
       "      <th>5</th>\n",
       "      <td>stop</td>\n",
       "      <td>36</td>\n",
       "    </tr>\n",
       "    <tr>\n",
       "      <th>6</th>\n",
       "      <td>world</td>\n",
       "      <td>36</td>\n",
       "    </tr>\n",
       "    <tr>\n",
       "      <th>7</th>\n",
       "      <td>technology</td>\n",
       "      <td>33</td>\n",
       "    </tr>\n",
       "    <tr>\n",
       "      <th>8</th>\n",
       "      <td>virus</td>\n",
       "      <td>32</td>\n",
       "    </tr>\n",
       "    <tr>\n",
       "      <th>9</th>\n",
       "      <td>wireless</td>\n",
       "      <td>32</td>\n",
       "    </tr>\n",
       "  </tbody>\n",
       "</table>\n",
       "</div>"
      ],
      "text/plain": [
       "        words  count\n",
       "0   radiation    122\n",
       "1      people     52\n",
       "2       tower     51\n",
       "3      health     48\n",
       "4       video     36\n",
       "5        stop     36\n",
       "6       world     36\n",
       "7  technology     33\n",
       "8       virus     32\n",
       "9    wireless     32"
      ]
     },
     "execution_count": 17,
     "metadata": {},
     "output_type": "execute_result"
    }
   ],
   "source": [
    "clean_tweets = pd.DataFrame(counts.most_common(100),\n",
    "                             columns=['words', 'count'])\n",
    "\n",
    "clean_tweets.head(10)"
   ]
  },
  {
   "cell_type": "code",
   "execution_count": 18,
   "metadata": {},
   "outputs": [
    {
     "data": {
      "image/png": "[encoded data removed]",
      "text/plain": [
       "<Figure size 2520x2160 with 1 Axes>"
      ]
     },
     "metadata": {
      "needs_background": "light"
     },
     "output_type": "display_data"
    }
   ],
   "source": [
    "from matplotlib import pyplot as plt\n",
    "fig, ax = plt.subplots(figsize=(35, 30))\n",
    "\n",
    "# Plot horizontal bar graph\n",
    "clean_tweets.sort_values(by='count').plot.barh(x='words',\n",
    "                      y='count',\n",
    "                      ax=ax,\n",
    "                      color=\"purple\")\n",
    "\n",
    "ax.set_title(\"Common words found in conspiracy-themed Tweets\")\n",
    "\n",
    "plt.show()"
   ]
  },
  {
   "cell_type": "code",
   "execution_count": null,
   "metadata": {},
   "outputs": [],
   "source": []
  },
  {
   "cell_type": "code",
   "execution_count": 19,
   "metadata": {},
   "outputs": [],
   "source": [
    "# _____ TF-IDF ______"
   ]
  },
  {
   "cell_type": "code",
   "execution_count": null,
   "metadata": {},
   "outputs": [],
   "source": []
  },
  {
   "cell_type": "code",
   "execution_count": 20,
   "metadata": {},
   "outputs": [
    {
     "data": {
      "text/plain": [
       "0       prevent, discovering, grey, spreading, leylines\n",
       "2     john, fitzgerald, kennedy, told, truth, thats,...\n",
       "3                                           thread, web\n",
       "9       danger, network, radiation, smartphones, secret\n",
       "16                                   trying, tell, yall\n",
       "18    andrew, kaufman, clearly, mention, insult, cau...\n",
       "20    film, american, shot, shelter, place, english,...\n",
       "Name: text_cleaned, dtype: object"
      ]
     },
     "execution_count": 20,
     "metadata": {},
     "output_type": "execute_result"
    }
   ],
   "source": [
    "# turn lists of strings into strings, divided with commas\n",
    "\n",
    "def combineIntoString(x):\n",
    "    return ', '.join(x)\n",
    "\n",
    "tweets['text_cleaned'] = tweets['words_cleaned'].apply(lambda x : combineIntoString(x))\n",
    "tweets['text_cleaned'].head(7)"
   ]
  },
  {
   "cell_type": "code",
   "execution_count": 21,
   "metadata": {},
   "outputs": [],
   "source": [
    "from sklearn.feature_extraction.text import CountVectorizer\n",
    "from sklearn.feature_extraction.text import TfidfVectorizer\n",
    "\n",
    "def preProcessor(s):\n",
    "    # we did all the preprocessing already, so return as is\n",
    "    return s\n",
    "    \n",
    "pd.options.display.max_colwidth = 1000\n",
    "pd.set_option('display.max_columns', None)\n",
    "\n",
    "tfidf_vectorizer = TfidfVectorizer(preprocessor = preProcessor,\n",
    "                                   max_df=0.75, min_df=3, use_idf=True)\n",
    "\n",
    "text_tfidf = tfidf_vectorizer.fit_transform(tweets['text_cleaned'])"
   ]
  },
  {
   "cell_type": "code",
   "execution_count": 22,
   "metadata": {},
   "outputs": [
    {
     "data": {
      "text/html": [
       "<div>\n",
       "<style scoped>\n",
       "    .dataframe tbody tr th:only-of-type {\n",
       "        vertical-align: middle;\n",
       "    }\n",
       "\n",
       "    .dataframe tbody tr th {\n",
       "        vertical-align: top;\n",
       "    }\n",
       "\n",
       "    .dataframe thead th {\n",
       "        text-align: right;\n",
       "    }\n",
       "</style>\n",
       "<table border=\"1\" class=\"dataframe\">\n",
       "  <thead>\n",
       "    <tr style=\"text-align: right;\">\n",
       "      <th></th>\n",
       "      <th>terms</th>\n",
       "      <th>tfidf</th>\n",
       "    </tr>\n",
       "  </thead>\n",
       "  <tbody>\n",
       "    <tr>\n",
       "      <th>454</th>\n",
       "      <td>radiation</td>\n",
       "      <td>22.206353</td>\n",
       "    </tr>\n",
       "    <tr>\n",
       "      <th>419</th>\n",
       "      <td>people</td>\n",
       "      <td>14.356913</td>\n",
       "    </tr>\n",
       "    <tr>\n",
       "      <th>545</th>\n",
       "      <td>stop</td>\n",
       "      <td>12.148230</td>\n",
       "    </tr>\n",
       "    <tr>\n",
       "      <th>593</th>\n",
       "      <td>tower</td>\n",
       "      <td>12.117365</td>\n",
       "    </tr>\n",
       "    <tr>\n",
       "      <th>263</th>\n",
       "      <td>health</td>\n",
       "      <td>12.057587</td>\n",
       "    </tr>\n",
       "    <tr>\n",
       "      <th>617</th>\n",
       "      <td>video</td>\n",
       "      <td>10.092710</td>\n",
       "    </tr>\n",
       "    <tr>\n",
       "      <th>635</th>\n",
       "      <td>wireless</td>\n",
       "      <td>9.639816</td>\n",
       "    </tr>\n",
       "    <tr>\n",
       "      <th>641</th>\n",
       "      <td>world</td>\n",
       "      <td>9.257292</td>\n",
       "    </tr>\n",
       "    <tr>\n",
       "      <th>615</th>\n",
       "      <td>vaccine</td>\n",
       "      <td>8.965297</td>\n",
       "    </tr>\n",
       "    <tr>\n",
       "      <th>510</th>\n",
       "      <td>share</td>\n",
       "      <td>8.790857</td>\n",
       "    </tr>\n",
       "    <tr>\n",
       "      <th>619</th>\n",
       "      <td>virus</td>\n",
       "      <td>8.747522</td>\n",
       "    </tr>\n",
       "    <tr>\n",
       "      <th>570</th>\n",
       "      <td>technology</td>\n",
       "      <td>8.696158</td>\n",
       "    </tr>\n",
       "    <tr>\n",
       "      <th>217</th>\n",
       "      <td>fcc</td>\n",
       "      <td>8.020754</td>\n",
       "    </tr>\n",
       "    <tr>\n",
       "      <th>188</th>\n",
       "      <td>emf</td>\n",
       "      <td>7.935315</td>\n",
       "    </tr>\n",
       "    <tr>\n",
       "      <th>625</th>\n",
       "      <td>warning</td>\n",
       "      <td>7.900224</td>\n",
       "    </tr>\n",
       "    <tr>\n",
       "      <th>127</th>\n",
       "      <td>corona</td>\n",
       "      <td>7.740044</td>\n",
       "    </tr>\n",
       "    <tr>\n",
       "      <th>83</th>\n",
       "      <td>case</td>\n",
       "      <td>7.464196</td>\n",
       "    </tr>\n",
       "    <tr>\n",
       "      <th>606</th>\n",
       "      <td>twitter</td>\n",
       "      <td>7.359816</td>\n",
       "    </tr>\n",
       "    <tr>\n",
       "      <th>30</th>\n",
       "      <td>anti</td>\n",
       "      <td>7.330228</td>\n",
       "    </tr>\n",
       "    <tr>\n",
       "      <th>323</th>\n",
       "      <td>latest</td>\n",
       "      <td>7.277443</td>\n",
       "    </tr>\n",
       "  </tbody>\n",
       "</table>\n",
       "</div>"
      ],
      "text/plain": [
       "          terms      tfidf\n",
       "454   radiation  22.206353\n",
       "419      people  14.356913\n",
       "545        stop  12.148230\n",
       "593       tower  12.117365\n",
       "263      health  12.057587\n",
       "617       video  10.092710\n",
       "635    wireless   9.639816\n",
       "641       world   9.257292\n",
       "615     vaccine   8.965297\n",
       "510       share   8.790857\n",
       "619       virus   8.747522\n",
       "570  technology   8.696158\n",
       "217         fcc   8.020754\n",
       "188         emf   7.935315\n",
       "625     warning   7.900224\n",
       "127      corona   7.740044\n",
       "83         case   7.464196\n",
       "606     twitter   7.359816\n",
       "30         anti   7.330228\n",
       "323      latest   7.277443"
      ]
     },
     "execution_count": 22,
     "metadata": {},
     "output_type": "execute_result"
    }
   ],
   "source": [
    "occ = np.asarray(text_tfidf.sum(axis=0)).ravel().tolist()\n",
    "tfidf_scores = pd.DataFrame({'terms': tfidf_vectorizer.get_feature_names(), 'tfidf': occ})\n",
    "\n",
    "tfidf_scores.sort_values('tfidf',ascending=False).head(20)"
   ]
  },
  {
   "cell_type": "code",
   "execution_count": null,
   "metadata": {},
   "outputs": [],
   "source": []
  },
  {
   "cell_type": "code",
   "execution_count": 23,
   "metadata": {},
   "outputs": [],
   "source": [
    "# ______ MOST COMMON HASHTAGS _______"
   ]
  },
  {
   "cell_type": "code",
   "execution_count": null,
   "metadata": {},
   "outputs": [],
   "source": []
  },
  {
   "cell_type": "code",
   "execution_count": 24,
   "metadata": {},
   "outputs": [
    {
     "data": {
      "text/plain": [
       "[('stop5g', 511),\n",
       " ('5g', 281),\n",
       " ('billgates', 89),\n",
       " ('emf', 67),\n",
       " ('cancer', 65),\n",
       " ('covid19', 60),\n",
       " ('radiation', 57),\n",
       " ('health', 54),\n",
       " ('stop4glte', 41),\n",
       " ('ehs', 30),\n",
       " ('coronavirus', 29),\n",
       " ('technocracy', 28),\n",
       " ('scomo', 28),\n",
       " ('nwo', 28),\n",
       " ('fitness', 27),\n",
       " ('emr', 26),\n",
       " ('vaccines', 24),\n",
       " ('5gdangers', 24),\n",
       " ('fcc', 23),\n",
       " ('5gnetwork', 23)]"
      ]
     },
     "execution_count": 24,
     "metadata": {},
     "output_type": "execute_result"
    }
   ],
   "source": [
    "# Then we check for the HASHTAGS\n",
    "\n",
    "# flatten list of all hashtags in all tweets and create a list of collections with the words and their counts\n",
    "\n",
    "import itertools\n",
    "import collections\n",
    "\n",
    "# clear list variable, since it gets initialized for some reason\n",
    "# and this then breaks the following \n",
    "# del list\n",
    "\n",
    "# List of all words across tweets\n",
    "all_hashtags = list(itertools.chain(*tweets['hashtags']))\n",
    "\n",
    "# Create counter\n",
    "hashtag_counts = collections.Counter(all_hashtags)\n",
    "\n",
    "hashtag_counts.most_common(20)"
   ]
  },
  {
   "cell_type": "code",
   "execution_count": 25,
   "metadata": {},
   "outputs": [
    {
     "data": {
      "text/html": [
       "<div>\n",
       "<style scoped>\n",
       "    .dataframe tbody tr th:only-of-type {\n",
       "        vertical-align: middle;\n",
       "    }\n",
       "\n",
       "    .dataframe tbody tr th {\n",
       "        vertical-align: top;\n",
       "    }\n",
       "\n",
       "    .dataframe thead th {\n",
       "        text-align: right;\n",
       "    }\n",
       "</style>\n",
       "<table border=\"1\" class=\"dataframe\">\n",
       "  <thead>\n",
       "    <tr style=\"text-align: right;\">\n",
       "      <th></th>\n",
       "      <th>words</th>\n",
       "      <th>count</th>\n",
       "    </tr>\n",
       "  </thead>\n",
       "  <tbody>\n",
       "    <tr>\n",
       "      <th>0</th>\n",
       "      <td>stop5g</td>\n",
       "      <td>511</td>\n",
       "    </tr>\n",
       "    <tr>\n",
       "      <th>1</th>\n",
       "      <td>5g</td>\n",
       "      <td>281</td>\n",
       "    </tr>\n",
       "    <tr>\n",
       "      <th>2</th>\n",
       "      <td>billgates</td>\n",
       "      <td>89</td>\n",
       "    </tr>\n",
       "    <tr>\n",
       "      <th>3</th>\n",
       "      <td>emf</td>\n",
       "      <td>67</td>\n",
       "    </tr>\n",
       "    <tr>\n",
       "      <th>4</th>\n",
       "      <td>cancer</td>\n",
       "      <td>65</td>\n",
       "    </tr>\n",
       "    <tr>\n",
       "      <th>5</th>\n",
       "      <td>covid19</td>\n",
       "      <td>60</td>\n",
       "    </tr>\n",
       "    <tr>\n",
       "      <th>6</th>\n",
       "      <td>radiation</td>\n",
       "      <td>57</td>\n",
       "    </tr>\n",
       "    <tr>\n",
       "      <th>7</th>\n",
       "      <td>health</td>\n",
       "      <td>54</td>\n",
       "    </tr>\n",
       "    <tr>\n",
       "      <th>8</th>\n",
       "      <td>stop4glte</td>\n",
       "      <td>41</td>\n",
       "    </tr>\n",
       "    <tr>\n",
       "      <th>9</th>\n",
       "      <td>ehs</td>\n",
       "      <td>30</td>\n",
       "    </tr>\n",
       "  </tbody>\n",
       "</table>\n",
       "</div>"
      ],
      "text/plain": [
       "       words  count\n",
       "0     stop5g    511\n",
       "1         5g    281\n",
       "2  billgates     89\n",
       "3        emf     67\n",
       "4     cancer     65\n",
       "5    covid19     60\n",
       "6  radiation     57\n",
       "7     health     54\n",
       "8  stop4glte     41\n",
       "9        ehs     30"
      ]
     },
     "execution_count": 25,
     "metadata": {},
     "output_type": "execute_result"
    }
   ],
   "source": [
    "clean_hashtags = pd.DataFrame(hashtag_counts.most_common(100),\n",
    "                             columns=['words', 'count'])\n",
    "\n",
    "clean_hashtags.head(10)"
   ]
  },
  {
   "cell_type": "code",
   "execution_count": 26,
   "metadata": {},
   "outputs": [
    {
     "data": {
      "image/png": "[encoded data removed]",
      "text/plain": [
       "<Figure size 2520x2160 with 1 Axes>"
      ]
     },
     "metadata": {
      "needs_background": "light"
     },
     "output_type": "display_data"
    }
   ],
   "source": [
    "from matplotlib import pyplot as plt\n",
    "fig, ax = plt.subplots(figsize=(35, 30))\n",
    "\n",
    "# Plot horizontal bar graph\n",
    "clean_hashtags.sort_values(by='count').plot.barh(x='words',\n",
    "                      y='count',\n",
    "                      ax=ax,\n",
    "                      color=\"purple\")\n",
    "\n",
    "ax.set_title(\"Common hashtags found in conspiracy-themed Tweets\")\n",
    "\n",
    "plt.show()"
   ]
  },
  {
   "cell_type": "code",
   "execution_count": null,
   "metadata": {},
   "outputs": [],
   "source": []
  },
  {
   "cell_type": "code",
   "execution_count": 27,
   "metadata": {},
   "outputs": [],
   "source": [
    "# ______ TF-IDF ______"
   ]
  },
  {
   "cell_type": "code",
   "execution_count": null,
   "metadata": {},
   "outputs": [],
   "source": []
  },
  {
   "cell_type": "code",
   "execution_count": 28,
   "metadata": {},
   "outputs": [
    {
     "data": {
      "text/plain": [
       "0                                                                                                                                                                                     5gcoronavirus, conspiracytheory, covid19\n",
       "2                                                                                                                                                                      israel, federalreserve, illuminatiagenda, 5gcoronavirus\n",
       "3     coronahoax, 5gcoronavirus, medicalmartiallaw, greatestdepression, globalcoup, 5gmindcontrol, billgatesisnotourfriend, billgatespublicenemy1, meetooabusedbypsychopaths, upriseofhumanityforsanity, maketheworldsaneagain\n",
       "9                                                                                                                                 problemswith5g, 5g, 5gcoronavirus, smartphones, 5gconspiracy, smartphonesradiation, madsheep\n",
       "16                                                                                                                        wcw, 5gtowers, 5gkills, 5gcoronavirus, 5gmindcontrol, 5g反対, 5g危険, coronatigerforce, coronaviruskenya\n",
       "18                                                                                                                                                                                    5g, 5gcoronavirus, fakepandemic, 5gvirus\n",
       "20                                                                                                                                covid19, stayathome, 5g, 5gcoronavirus, horror, horrorfamily, workingfromhome, aliensarereal\n",
       "Name: hashtags_cleaned, dtype: object"
      ]
     },
     "execution_count": 28,
     "metadata": {},
     "output_type": "execute_result"
    }
   ],
   "source": [
    "# turn lists of strings into strings, divided with commas\n",
    "\n",
    "def combineIntoString(x):\n",
    "    return ', '.join(x)\n",
    "\n",
    "tweets['hashtags_cleaned'] = tweets['hashtags'].apply(lambda x : combineIntoString(x))\n",
    "tweets['hashtags_cleaned'].head(7)"
   ]
  },
  {
   "cell_type": "code",
   "execution_count": 29,
   "metadata": {},
   "outputs": [],
   "source": [
    "from sklearn.feature_extraction.text import CountVectorizer\n",
    "from sklearn.feature_extraction.text import TfidfVectorizer\n",
    "\n",
    "def preProcessor(s):\n",
    "    # we did all the preprocessing already, so return as is\n",
    "    return s\n",
    "    \n",
    "pd.options.display.max_colwidth = 1000\n",
    "pd.set_option('display.max_columns', None)\n",
    "\n",
    "tfidf_vectorizer = TfidfVectorizer(preprocessor = preProcessor,\n",
    "                                   max_df=0.75, min_df=3, use_idf=True)\n",
    "\n",
    "hashtag_tfidf = tfidf_vectorizer.fit_transform(tweets['hashtags_cleaned'])"
   ]
  },
  {
   "cell_type": "code",
   "execution_count": 30,
   "metadata": {},
   "outputs": [
    {
     "data": {
      "text/html": [
       "<div>\n",
       "<style scoped>\n",
       "    .dataframe tbody tr th:only-of-type {\n",
       "        vertical-align: middle;\n",
       "    }\n",
       "\n",
       "    .dataframe tbody tr th {\n",
       "        vertical-align: top;\n",
       "    }\n",
       "\n",
       "    .dataframe thead th {\n",
       "        text-align: right;\n",
       "    }\n",
       "</style>\n",
       "<table border=\"1\" class=\"dataframe\">\n",
       "  <thead>\n",
       "    <tr style=\"text-align: right;\">\n",
       "      <th></th>\n",
       "      <th>terms</th>\n",
       "      <th>tfidf</th>\n",
       "    </tr>\n",
       "  </thead>\n",
       "  <tbody>\n",
       "    <tr>\n",
       "      <th>3</th>\n",
       "      <td>5g</td>\n",
       "      <td>86.947705</td>\n",
       "    </tr>\n",
       "    <tr>\n",
       "      <th>27</th>\n",
       "      <td>billgates</td>\n",
       "      <td>34.849368</td>\n",
       "    </tr>\n",
       "    <tr>\n",
       "      <th>62</th>\n",
       "      <td>emf</td>\n",
       "      <td>25.683025</td>\n",
       "    </tr>\n",
       "    <tr>\n",
       "      <th>35</th>\n",
       "      <td>cancer</td>\n",
       "      <td>21.785820</td>\n",
       "    </tr>\n",
       "    <tr>\n",
       "      <th>47</th>\n",
       "      <td>covid19</td>\n",
       "      <td>20.247743</td>\n",
       "    </tr>\n",
       "    <tr>\n",
       "      <th>84</th>\n",
       "      <td>health</td>\n",
       "      <td>18.752715</td>\n",
       "    </tr>\n",
       "    <tr>\n",
       "      <th>134</th>\n",
       "      <td>radiation</td>\n",
       "      <td>18.733055</td>\n",
       "    </tr>\n",
       "    <tr>\n",
       "      <th>156</th>\n",
       "      <td>stop4glte</td>\n",
       "      <td>17.291937</td>\n",
       "    </tr>\n",
       "    <tr>\n",
       "      <th>24</th>\n",
       "      <td>arrestbillgates</td>\n",
       "      <td>16.918028</td>\n",
       "    </tr>\n",
       "    <tr>\n",
       "      <th>165</th>\n",
       "      <td>technocracy</td>\n",
       "      <td>13.552674</td>\n",
       "    </tr>\n",
       "    <tr>\n",
       "      <th>184</th>\n",
       "      <td>wireless</td>\n",
       "      <td>12.001115</td>\n",
       "    </tr>\n",
       "    <tr>\n",
       "      <th>122</th>\n",
       "      <td>nwo</td>\n",
       "      <td>11.194713</td>\n",
       "    </tr>\n",
       "    <tr>\n",
       "      <th>44</th>\n",
       "      <td>coronavirus</td>\n",
       "      <td>10.949416</td>\n",
       "    </tr>\n",
       "    <tr>\n",
       "      <th>75</th>\n",
       "      <td>fcc</td>\n",
       "      <td>10.808763</td>\n",
       "    </tr>\n",
       "    <tr>\n",
       "      <th>5</th>\n",
       "      <td>5gdangers</td>\n",
       "      <td>10.804043</td>\n",
       "    </tr>\n",
       "    <tr>\n",
       "      <th>183</th>\n",
       "      <td>wifi</td>\n",
       "      <td>10.406585</td>\n",
       "    </tr>\n",
       "    <tr>\n",
       "      <th>58</th>\n",
       "      <td>ehs</td>\n",
       "      <td>10.395528</td>\n",
       "    </tr>\n",
       "    <tr>\n",
       "      <th>101</th>\n",
       "      <td>longcovid</td>\n",
       "      <td>10.312050</td>\n",
       "    </tr>\n",
       "    <tr>\n",
       "      <th>179</th>\n",
       "      <td>vaccines</td>\n",
       "      <td>10.025652</td>\n",
       "    </tr>\n",
       "    <tr>\n",
       "      <th>49</th>\n",
       "      <td>covidhoax</td>\n",
       "      <td>9.948179</td>\n",
       "    </tr>\n",
       "  </tbody>\n",
       "</table>\n",
       "</div>"
      ],
      "text/plain": [
       "               terms      tfidf\n",
       "3                 5g  86.947705\n",
       "27         billgates  34.849368\n",
       "62               emf  25.683025\n",
       "35            cancer  21.785820\n",
       "47           covid19  20.247743\n",
       "84            health  18.752715\n",
       "134        radiation  18.733055\n",
       "156        stop4glte  17.291937\n",
       "24   arrestbillgates  16.918028\n",
       "165      technocracy  13.552674\n",
       "184         wireless  12.001115\n",
       "122              nwo  11.194713\n",
       "44       coronavirus  10.949416\n",
       "75               fcc  10.808763\n",
       "5          5gdangers  10.804043\n",
       "183             wifi  10.406585\n",
       "58               ehs  10.395528\n",
       "101        longcovid  10.312050\n",
       "179         vaccines  10.025652\n",
       "49         covidhoax   9.948179"
      ]
     },
     "execution_count": 30,
     "metadata": {},
     "output_type": "execute_result"
    }
   ],
   "source": [
    "occ_hashtag = np.asarray(hashtag_tfidf.sum(axis=0)).ravel().tolist()\n",
    "tfidf_hashtag_scores = pd.DataFrame({'terms': tfidf_vectorizer.get_feature_names(), 'tfidf': occ_hashtag})\n",
    "\n",
    "tfidf_hashtag_scores.sort_values('tfidf',ascending=False).head(20)"
   ]
  },
  {
   "cell_type": "code",
   "execution_count": null,
   "metadata": {},
   "outputs": [],
   "source": [
    " "
   ]
  },
  {
   "cell_type": "code",
   "execution_count": 31,
   "metadata": {},
   "outputs": [],
   "source": [
    "#################################### Creating list of words and hashtags for creating stopword list ####################################"
   ]
  },
  {
   "cell_type": "code",
   "execution_count": null,
   "metadata": {},
   "outputs": [],
   "source": []
  },
  {
   "cell_type": "code",
   "execution_count": 32,
   "metadata": {},
   "outputs": [
    {
     "data": {
      "text/plain": [
       "454     radiation\n",
       "419        people\n",
       "545          stop\n",
       "593         tower\n",
       "263        health\n",
       "617         video\n",
       "635      wireless\n",
       "641         world\n",
       "615       vaccine\n",
       "510         share\n",
       "619         virus\n",
       "570    technology\n",
       "217           fcc\n",
       "188           emf\n",
       "625       warning\n",
       "127        corona\n",
       "83           case\n",
       "606       twitter\n",
       "30           anti\n",
       "323        latest\n",
       "492        safety\n",
       "444       protest\n",
       "15       addition\n",
       "391           new\n",
       "369     microwave\n",
       "388          need\n",
       "249    government\n",
       "176          dont\n",
       "41      awareness\n",
       "332           lie\n",
       "422         phone\n",
       "475      response\n",
       "513          shop\n",
       "320          know\n",
       "583         think\n",
       "622          want\n",
       "288        impact\n",
       "202       excited\n",
       "160        design\n",
       "223         filed\n",
       "490          safe\n",
       "322      landmark\n",
       "67          brief\n",
       "147        danger\n",
       "562       symptom\n",
       "231     frequency\n",
       "84          cause\n",
       "150           day\n",
       "387           nca\n",
       "462          real\n",
       "Name: terms, dtype: object"
      ]
     },
     "execution_count": 32,
     "metadata": {},
     "output_type": "execute_result"
    }
   ],
   "source": [
    "# create list with 50 best-scored WORDS in regards of tf-idf\n",
    "\n",
    "tfidf_scores.sort_values('tfidf',ascending=False)[:50]['terms'].head(50)"
   ]
  },
  {
   "cell_type": "code",
   "execution_count": null,
   "metadata": {},
   "outputs": [],
   "source": []
  },
  {
   "cell_type": "code",
   "execution_count": null,
   "metadata": {},
   "outputs": [],
   "source": []
  },
  {
   "cell_type": "code",
   "execution_count": 33,
   "metadata": {},
   "outputs": [
    {
     "data": {
      "text/plain": [
       "3                     5g\n",
       "27             billgates\n",
       "62                   emf\n",
       "35                cancer\n",
       "47               covid19\n",
       "84                health\n",
       "134            radiation\n",
       "156            stop4glte\n",
       "24       arrestbillgates\n",
       "165          technocracy\n",
       "184             wireless\n",
       "122                  nwo\n",
       "44           coronavirus\n",
       "75                   fcc\n",
       "5              5gdangers\n",
       "183                 wifi\n",
       "58                   ehs\n",
       "101            longcovid\n",
       "179             vaccines\n",
       "49             covidhoax\n",
       "132         publichealth\n",
       "4          5gcoronavirus\n",
       "142                scomo\n",
       "119                 no5g\n",
       "77               fitness\n",
       "67           environment\n",
       "66                   emr\n",
       "8             5gkillgrid\n",
       "185    wirelessradiation\n",
       "11             5gnetwork\n",
       "18            agenda2030\n",
       "7                 5gharm\n",
       "175         truthmatters\n",
       "127          planetearth\n",
       "23                anti5g\n",
       "22               antenna\n",
       "114               mobile\n",
       "68                  etsy\n",
       "139                safeg\n",
       "149            smartgrid\n",
       "46                 covid\n",
       "89                  hoax\n",
       "167        thegreatreset\n",
       "155             stop3gpp\n",
       "61                   eme\n",
       "111    microwavesickness\n",
       "13              5gtowers\n",
       "9                5gkills\n",
       "69              event201\n",
       "178              vaccine\n",
       "Name: terms, dtype: object"
      ]
     },
     "execution_count": 33,
     "metadata": {},
     "output_type": "execute_result"
    }
   ],
   "source": [
    "# create list with 50 best-scored HASHTAGS in regards of tf-idf\n",
    "\n",
    "tfidf_hashtag_scores.sort_values('tfidf',ascending=False)[:50]['terms'].head(50)"
   ]
  },
  {
   "cell_type": "code",
   "execution_count": null,
   "metadata": {},
   "outputs": [],
   "source": []
  },
  {
   "cell_type": "code",
   "execution_count": 34,
   "metadata": {},
   "outputs": [
    {
     "data": {
      "text/plain": [
       "['awareness',\n",
       " 'emr',\n",
       " 'covidhoax',\n",
       " '5gkillgrid',\n",
       " 'vaccine',\n",
       " 'stop',\n",
       " 'emf',\n",
       " 'landmark',\n",
       " 'covid19',\n",
       " 'know',\n",
       " 'environment',\n",
       " 'smartgrid',\n",
       " 'symptom',\n",
       " 'microwavesickness',\n",
       " 'want',\n",
       " 'brief',\n",
       " 'coronavirus',\n",
       " 'shop',\n",
       " 'safeg',\n",
       " 'ehs',\n",
       " 'agenda2030',\n",
       " '5gharm',\n",
       " 'longcovid',\n",
       " 'phone',\n",
       " '5gdangers',\n",
       " '5gtowers',\n",
       " 'hoax',\n",
       " 'world',\n",
       " 'day',\n",
       " 'dont',\n",
       " 'billgates',\n",
       " 'wireless',\n",
       " '5gnetwork',\n",
       " 'technology',\n",
       " 'scomo',\n",
       " 'stop3gpp',\n",
       " 'anti',\n",
       " 'government',\n",
       " 'frequency',\n",
       " 'publichealth',\n",
       " 'mobile',\n",
       " 'cancer',\n",
       " 'danger',\n",
       " 'anti5g',\n",
       " 'fcc',\n",
       " 'arrestbillgates',\n",
       " 'technocracy',\n",
       " 'filed',\n",
       " 'lie',\n",
       " '5g',\n",
       " 'real',\n",
       " 'video',\n",
       " 'corona',\n",
       " 'stop4glte',\n",
       " 'new',\n",
       " 'tower',\n",
       " 'warning',\n",
       " 'safe',\n",
       " 'protest',\n",
       " 'impact',\n",
       " 'thegreatreset',\n",
       " 'twitter',\n",
       " 'radiation',\n",
       " 'wifi',\n",
       " 'antenna',\n",
       " 'event201',\n",
       " 'vaccines',\n",
       " 'safety',\n",
       " 'fitness',\n",
       " 'nca',\n",
       " '5gcoronavirus',\n",
       " 'share',\n",
       " 'etsy',\n",
       " 'truthmatters',\n",
       " 'planetearth',\n",
       " '5gkills',\n",
       " 'addition',\n",
       " 'no5g',\n",
       " 'case',\n",
       " 'need',\n",
       " 'latest',\n",
       " 'health',\n",
       " 'wirelessradiation',\n",
       " 'covid',\n",
       " 'microwave',\n",
       " 'design',\n",
       " 'people',\n",
       " 'nwo',\n",
       " 'response',\n",
       " 'excited',\n",
       " 'cause',\n",
       " 'think',\n",
       " 'virus',\n",
       " 'eme']"
      ]
     },
     "execution_count": 34,
     "metadata": {},
     "output_type": "execute_result"
    }
   ],
   "source": [
    "# Create list of words, which is conspiracy_stop_words:\n",
    "\n",
    "first_list = tfidf_scores.sort_values('tfidf',ascending=False)[:50]['terms']\n",
    "\n",
    "second_list = tfidf_hashtag_scores.sort_values('tfidf',ascending=False)[:50]['terms']\n",
    "\n",
    "# combine sets and transform into list\n",
    "# https://stackoverflow.com/questions/1319338/combining-two-lists-and-removing-duplicates-without-removing-duplicates-in-orig\n",
    "conspiracy_stop_words = list(set(first_list) | set(second_list))\n",
    "\n",
    "# remove possible duplicates\n",
    "conspiracy_stop_words = list(dict.fromkeys(conspiracy_stop_words))\n",
    "\n",
    "conspiracy_stop_words"
   ]
  },
  {
   "cell_type": "code",
   "execution_count": null,
   "metadata": {},
   "outputs": [],
   "source": []
  },
  {
   "cell_type": "code",
   "execution_count": 35,
   "metadata": {},
   "outputs": [],
   "source": [
    "# create file with conspiracy_stop_words\n",
    "\n",
    "with open('/Users/mikipernu/Desktop/sma-2020/conspiracy_stopwords/conspiracy_stop_words_generated.txt', 'w') as f:\n",
    "    for item in conspiracy_stop_words:\n",
    "        f.write(str(item) + '\\n')\n",
    "    f.close()"
   ]
  },
  {
   "cell_type": "code",
   "execution_count": null,
   "metadata": {},
   "outputs": [],
   "source": []
  },
  {
   "cell_type": "code",
   "execution_count": 36,
   "metadata": {},
   "outputs": [
    {
     "data": {
      "text/plain": [
       "['5g',\n",
       " 'billgates',\n",
       " 'emf',\n",
       " 'cancer',\n",
       " 'covid19',\n",
       " 'health',\n",
       " 'radiation',\n",
       " 'stop4glte',\n",
       " 'arrestbillgates',\n",
       " 'technocracy',\n",
       " 'wireless',\n",
       " 'nwo',\n",
       " 'coronavirus',\n",
       " 'fcc',\n",
       " '5gdangers',\n",
       " 'wifi',\n",
       " 'ehs',\n",
       " 'longcovid',\n",
       " 'vaccines',\n",
       " 'covidhoax',\n",
       " 'publichealth',\n",
       " '5gcoronavirus',\n",
       " 'scomo',\n",
       " 'no5g',\n",
       " 'fitness',\n",
       " 'environment',\n",
       " 'emr',\n",
       " '5gkillgrid',\n",
       " 'wirelessradiation',\n",
       " '5gnetwork',\n",
       " 'agenda2030',\n",
       " '5gharm',\n",
       " 'truthmatters',\n",
       " 'planetearth',\n",
       " 'anti5g',\n",
       " 'antenna',\n",
       " 'mobile',\n",
       " 'etsy',\n",
       " 'safeg',\n",
       " 'smartgrid',\n",
       " 'covid',\n",
       " 'hoax',\n",
       " 'thegreatreset',\n",
       " 'stop3gpp',\n",
       " 'eme',\n",
       " 'microwavesickness',\n",
       " '5gtowers',\n",
       " '5gkills',\n",
       " 'event201',\n",
       " 'vaccine']"
      ]
     },
     "execution_count": 36,
     "metadata": {},
     "output_type": "execute_result"
    }
   ],
   "source": [
    "# List of hashtags is used as conspiracy_stop_hashtags:\n",
    "\n",
    "# transform into list\n",
    "conspiracy_stop_hashtags = list(tfidf_hashtag_scores.sort_values('tfidf',ascending=False)[:50]['terms'])\n",
    "\n",
    "conspiracy_stop_hashtags"
   ]
  },
  {
   "cell_type": "code",
   "execution_count": 37,
   "metadata": {},
   "outputs": [],
   "source": [
    "# create file with conspiracy_stop_hashtags\n",
    "\n",
    "with open('/Users/mikipernu/Desktop/sma-2020/conspiracy_stopwords/conspiracy_stop_hashtags_generated.txt', 'w') as f:\n",
    "    for item in conspiracy_stop_hashtags:\n",
    "        f.write(str(item) + '\\n')\n",
    "    f.close()"
   ]
  },
  {
   "cell_type": "code",
   "execution_count": null,
   "metadata": {},
   "outputs": [],
   "source": [
    "## Remove by hand the words and hashtags that are too general or feature both conspiratory and non-conspiratory content"
   ]
  }
 ],
 "metadata": {
  "kernelspec": {
   "display_name": "Python 3",
   "language": "python",
   "name": "python3"
  },
  "language_info": {
   "codemirror_mode": {
    "name": "ipython",
    "version": 3
   },
   "file_extension": ".py",
   "mimetype": "text/x-python",
   "name": "python",
   "nbconvert_exporter": "python",
   "pygments_lexer": "ipython3",
   "version": "3.7.3"
  }
 },
 "nbformat": 4,
 "nbformat_minor": 4
}
