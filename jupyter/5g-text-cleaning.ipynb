{
 "cells": [
  {
   "cell_type": "code",
   "execution_count": 1,
   "metadata": {},
   "outputs": [],
   "source": [
    "#import libraries\n",
    "import re\n",
    "import nltk\n",
    "import sklearn\n",
    "import os\n",
    "import numpy as np\n",
    "import pandas as pd\n",
    "pd.options.mode.chained_assignment = None  # default='warn'"
   ]
  },
  {
   "cell_type": "code",
   "execution_count": 2,
   "metadata": {},
   "outputs": [
    {
     "data": {
      "text/plain": [
       "(207830, 19)"
      ]
     },
     "execution_count": 2,
     "metadata": {},
     "output_type": "execute_result"
    }
   ],
   "source": [
    "tweets_5G = '/$PATH/#5G_tweets.csv'\n",
    "\n",
    "tweet_data = pd.read_csv(tweets_5G, sep = \",\", engine='python')\n",
    "\n",
    "tweet_data.shape"
   ]
  },
  {
   "cell_type": "code",
   "execution_count": 3,
   "metadata": {},
   "outputs": [
    {
     "data": {
      "text/plain": [
       "(134231, 19)"
      ]
     },
     "execution_count": 3,
     "metadata": {},
     "output_type": "execute_result"
    }
   ],
   "source": [
    "# remove all rows with non-English tweet text content, as per Twitter's machine-detection\n",
    "# https://towardsdatascience.com/how-to-filter-rows-of-a-pandas-dataframe-by-column-value-51996ea621f8\n",
    "\n",
    "lang_truth_table = tweet_data.lang.str.contains('en')\n",
    "tweets = tweet_data[lang_truth_table]\n",
    "tweets.shape"
   ]
  },
  {
   "cell_type": "code",
   "execution_count": 4,
   "metadata": {},
   "outputs": [
    {
     "name": "stdout",
     "output_type": "stream",
     "text": [
      "Number of rows removed: 73599 / 207830\n",
      "Percentage of English-language tweets is 64.6%\n"
     ]
    }
   ],
   "source": [
    "print('Number of rows removed: ' + str(tweet_data.shape[0] - tweets.shape[0]) + ' / ' + str(tweet_data.shape[0]) + '')\n",
    "print('Percentage of English-language tweets is ' + str(round(tweets.shape[0] / tweet_data.shape[0] * 100, 1)) + '%')"
   ]
  },
  {
   "cell_type": "code",
   "execution_count": 5,
   "metadata": {},
   "outputs": [
    {
     "name": "stdout",
     "output_type": "stream",
     "text": [
      "Number of rows removed: 150994 / 207830\n",
      "Percentage of tweets left is 27.3%\n"
     ]
    }
   ],
   "source": [
    "# drop duplicate tweets with different id_str (some retweets cause this)\n",
    "# https://www.interviewqs.com/ddi_code_snippets/drop_duplicate_rows_pandas\n",
    "tweets = tweets.drop_duplicates(subset='text', keep=\"first\")\n",
    "\n",
    "print('Number of rows removed: ' + str(tweet_data.shape[0] - tweets.shape[0]) + ' / ' + str(tweet_data.shape[0]) + '')\n",
    "print('Percentage of tweets left is ' + str(round(tweets.shape[0] / tweet_data.shape[0] * 100, 1)) + '%')"
   ]
  },
  {
   "cell_type": "code",
   "execution_count": 6,
   "metadata": {},
   "outputs": [
    {
     "data": {
      "text/plain": [
       "(56836, 19)"
      ]
     },
     "execution_count": 6,
     "metadata": {},
     "output_type": "execute_result"
    }
   ],
   "source": [
    "tweets.shape"
   ]
  },
  {
   "cell_type": "code",
   "execution_count": 7,
   "metadata": {},
   "outputs": [],
   "source": [
    "# drop unnecessary columns \n",
    "# https://cmdlinetips.com/2018/04/how-to-drop-one-or-more-columns-in-pandas-dataframe/\n",
    "tweets = tweets.drop(['from_user', 'lang', 'time', 'user_followers_count', 'user_friends_count', 'favorite_count        ', 'retweet_count        ', 'created_at', 'in_reply_to_user_id_str', 'in_reply_to_screen_name', 'from_user_id_str', 'in_reply_to_status_id_str',  'source',  'profile_image_url',  'user_location',  'status_url',  'entities_str'], axis=1)"
   ]
  },
  {
   "cell_type": "code",
   "execution_count": 8,
   "metadata": {},
   "outputs": [],
   "source": [
    "# extract hashtags from tweet text content and create new column 'hashtags' in lower case\n",
    "# https://towardsdatascience.com/basic-tweet-preprocessing-in-python-efd8360d529e\n",
    "\n",
    "def lower_case(x):\n",
    "    result = []\n",
    "    for word in x:\n",
    "        result.append(word.lower())\n",
    "    return result\n",
    "\n",
    "tweets['hashtags'] = tweets['text'].apply(lambda x: re.findall(r\"#(\\w+)\", x))\n",
    "tweets['hashtags'] = tweets['hashtags'].apply(lambda x: lower_case(x))"
   ]
  },
  {
   "cell_type": "code",
   "execution_count": 9,
   "metadata": {},
   "outputs": [],
   "source": [
    "# clean tweets from url's, mentions, hashtags, reserved words (RT, FAV), emojis and smileys, and numbers\n",
    "# also, makes the cleaned text lowercase\n",
    "\n",
    "import preprocessor as p\n",
    "p.set_options(p.OPT.URL, p.OPT.MENTION, p.OPT.HASHTAG, p.OPT.RESERVED, p.OPT.EMOJI, p.OPT.SMILEY)\n",
    "list = []\n",
    "\n",
    "for i,v in enumerate(tweets['text']):\n",
    "    list.append( p.clean(v).lower() )\n",
    "\n",
    "tweets['text_cleaned'] = list"
   ]
  },
  {
   "cell_type": "code",
   "execution_count": 10,
   "metadata": {},
   "outputs": [],
   "source": [
    "# remove extra white spaces and punctuation\n",
    "\n",
    "list = []\n",
    "\n",
    "for i,v in enumerate(tweets['text_cleaned']):\n",
    "    tweet = re.sub('&amp;', '', v)\n",
    "    tweet = re.sub('[^\\w\\s]', '', tweet)\n",
    "    tweet = re.sub('\\s\\s+', ' ', tweet)\n",
    "    \n",
    "#    if tweet[0] == ' ':\n",
    "#        tweet = tweet[1:]\n",
    "    \n",
    "    list.append(tweet)\n",
    "\n",
    "tweets['text_cleaned'] = list"
   ]
  },
  {
   "cell_type": "code",
   "execution_count": 11,
   "metadata": {},
   "outputs": [],
   "source": [
    "# remove stop words with gensim\n",
    "# https://www.kaggle.com/sreejiths0/efficient-tweet-preprocessing\n",
    "\n",
    "from gensim.parsing.preprocessing import remove_stopwords\n",
    "\n",
    "list = []\n",
    "\n",
    "for i,v in enumerate(tweets['text_cleaned']):\n",
    "    text = remove_stopwords(v)\n",
    "    list.append(text)\n",
    "\n",
    "tweets['text_cleaned'] = list"
   ]
  },
  {
   "cell_type": "code",
   "execution_count": 12,
   "metadata": {},
   "outputs": [
    {
     "data": {
      "text/plain": [
       "(55666, 4)"
      ]
     },
     "execution_count": 12,
     "metadata": {},
     "output_type": "execute_result"
    }
   ],
   "source": [
    "# remove rows which feature only one word in cleaned text\n",
    "\n",
    "lang_truth_table = tweets.text_cleaned.str.contains(' ')\n",
    "tweets = tweets[lang_truth_table]\n",
    "\n",
    "tweets.shape"
   ]
  },
  {
   "cell_type": "code",
   "execution_count": 13,
   "metadata": {},
   "outputs": [
    {
     "data": {
      "text/plain": [
       "1                   [reducing, reusing, recycling, ty]\n",
       "2    [closing, year, belter, episode, trust, networ...\n",
       "3    [2020, held, november, 26, 28, convention, gat...\n",
       "4    [5g, pioneer, launching, campus, lead, plant, ...\n",
       "5    [knows, borders, communication, mutual, learni...\n",
       "Name: words_cleaned, dtype: object"
      ]
     },
     "execution_count": 13,
     "metadata": {},
     "output_type": "execute_result"
    }
   ],
   "source": [
    "# create new column with words of a tweet as a list\n",
    "\n",
    "list = []\n",
    "\n",
    "for i,v in enumerate(tweets['text_cleaned']):\n",
    "    words = v.split(' ')\n",
    "    list.append(words)\n",
    "\n",
    "tweets['words_cleaned'] = list\n",
    "\n",
    "tweets['words_cleaned'].head(5)"
   ]
  },
  {
   "cell_type": "code",
   "execution_count": 14,
   "metadata": {},
   "outputs": [
    {
     "data": {
      "text/plain": [
       "1                   [reducing, reusing, recycling, ty]\n",
       "2    [closing, year, belter, episode, trust, networ...\n",
       "3    [2020, held, november, 26, 28, convention, gat...\n",
       "4    [5g, pioneer, launching, campus, lead, plant, ...\n",
       "5    [know, border, communication, mutual, learning...\n",
       "Name: words_cleaned, dtype: object"
      ]
     },
     "execution_count": 14,
     "metadata": {},
     "output_type": "execute_result"
    }
   ],
   "source": [
    "# lemmatization\n",
    "\n",
    "from nltk.stem import WordNetLemmatizer\n",
    "\n",
    "lemmatizer = WordNetLemmatizer()\n",
    "\n",
    "def get_lemma(x):\n",
    "    lemmatizer = WordNetLemmatizer()\n",
    "    return [lemmatizer.lemmatize(words) for words in x]\n",
    "\n",
    "tweets['words_cleaned'] = tweets['words_cleaned'].apply(lambda x : get_lemma(x))\n",
    "tweets['words_cleaned'].head(5)"
   ]
  },
  {
   "cell_type": "code",
   "execution_count": 15,
   "metadata": {},
   "outputs": [
    {
     "data": {
      "text/plain": [
       "1                   [reducing, reusing, recycling, ty]\n",
       "2    [closing, year, belter, episode, trust, networ...\n",
       "3    [2020, held, november, 26, 28, convention, gat...\n",
       "4    [5g, pioneer, launching, campus, lead, plant, ...\n",
       "5    [know, border, communication, mutual, learning...\n",
       "6                             [10, key, tip, aspiring]\n",
       "7                   [reducing, reusing, recycling, ty]\n",
       "Name: words_cleaned, dtype: object"
      ]
     },
     "execution_count": 15,
     "metadata": {},
     "output_type": "execute_result"
    }
   ],
   "source": [
    "# removal of duplicate words\n",
    "# https://stackoverflow.com/questions/8200342/removing-duplicate-strings-from-a-list-in-python\n",
    "def remove_duplicates(x):\n",
    "    seen = set()\n",
    "    result = []\n",
    "    for word in x:\n",
    "        if word not in seen:\n",
    "            seen.add(word)\n",
    "            result.append(word)\n",
    "    return result\n",
    "\n",
    "tweets['words_cleaned'] = tweets['words_cleaned'].apply(lambda x : remove_duplicates(x))\n",
    "tweets['words_cleaned'].head(7)"
   ]
  },
  {
   "cell_type": "code",
   "execution_count": 16,
   "metadata": {},
   "outputs": [
    {
     "data": {
      "text/plain": [
       "1                       [reducing, reusing, recycling]\n",
       "2    [closing, year, belter, episode, trust, networ...\n",
       "3    [2020, held, november, convention, gather, sci...\n",
       "4    [pioneer, launching, campus, lead, plant, feue...\n",
       "5    [know, border, communication, mutual, learning...\n",
       "6                                 [key, tip, aspiring]\n",
       "7                       [reducing, reusing, recycling]\n",
       "Name: words_cleaned, dtype: object"
      ]
     },
     "execution_count": 16,
     "metadata": {},
     "output_type": "execute_result"
    }
   ],
   "source": [
    "# removal of words and strings with a length of two (e.g. 'w/' i.e. 'w', which is a stopword), excluding 4g and 3g\n",
    "# ALSO we allow removing '5g', since its a collection word (we are using it to fetch the data)\n",
    "\n",
    "def remove_one_character_strings(x):\n",
    "    result = []\n",
    "    for word in x:\n",
    "        if len(word) > 2 or word == '4g' or word == '3g':\n",
    "            result.append(word)\n",
    "    return result\n",
    "\n",
    "tweets['words_cleaned'] = tweets['words_cleaned'].apply(lambda x : remove_one_character_strings(x))\n",
    "tweets['words_cleaned'].head(7)"
   ]
  },
  {
   "cell_type": "code",
   "execution_count": 67,
   "metadata": {},
   "outputs": [],
   "source": [
    "# categorization of tweets based on conspiracy-content\n",
    "# with our custom library of conspiracy-related words and hashtags\n",
    "\n",
    "with open('/$PATH/conspiracy_stop_words.txt', 'r') as f:\n",
    "    conspiracy_stop_words = [line.rstrip('\\n') for line in f]\n",
    "    f.close()\n",
    "    \n",
    "with open('/$PATH/conspiracy_stop_hashtags.txt', 'r') as f:\n",
    "    conspiracy_stop_hashtags = [line.rstrip('\\n') for line in f]\n",
    "    f.close()\n",
    "\n",
    "def has_conspiracy_content(y, z):\n",
    "    result = False\n",
    "    for word in y:\n",
    "        if word in conspiracy_stop_words:\n",
    "            result = True\n",
    "    for hashtag in z:\n",
    "        if hashtag in conspiracy_stop_hashtags:\n",
    "            result = True\n",
    "    return result\n",
    "\n",
    "tweets['is_conspiracy_related'] = tweets.apply(lambda x : True if has_conspiracy_content(x['words_cleaned'], x['hashtags']) else False, axis=1)"
   ]
  },
  {
   "cell_type": "code",
   "execution_count": 68,
   "metadata": {},
   "outputs": [],
   "source": [
    "# categorization of tweets based on conspiracy-content\n",
    "# with custom library of conspiracy-related words and hashtags\n",
    "pd.options.display.max_colwidth = 400\n",
    "\n",
    "conspiracy_truth_table = tweets['is_conspiracy_related']\n",
    "conspiracy_tweets = tweets[conspiracy_truth_table]"
   ]
  },
  {
   "cell_type": "code",
   "execution_count": null,
   "metadata": {},
   "outputs": [],
   "source": []
  },
  {
   "cell_type": "code",
   "execution_count": 19,
   "metadata": {},
   "outputs": [],
   "source": [
    "######################################### RATIO BETWEEN CONSPIRATORY AND NON-CONSPIRATORY ###############################################"
   ]
  },
  {
   "cell_type": "code",
   "execution_count": 20,
   "metadata": {},
   "outputs": [
    {
     "name": "stdout",
     "output_type": "stream",
     "text": [
      "Number of conspiratory tweets: 1471 out of 55666\n",
      "Percentage of conspiratory tweets 2.6%\n"
     ]
    }
   ],
   "source": [
    "print('Number of conspiratory tweets: ' + str(conspiracy_tweets.shape[0]) + ' out of ' + str(tweets.shape[0]) + '')\n",
    "print('Percentage of conspiratory tweets ' + str(round(conspiracy_tweets.shape[0] / tweets.shape[0] * 100, 1)) + '%')"
   ]
  },
  {
   "cell_type": "code",
   "execution_count": 21,
   "metadata": {},
   "outputs": [],
   "source": [
    "#########################################################################################################################################"
   ]
  },
  {
   "cell_type": "code",
   "execution_count": null,
   "metadata": {},
   "outputs": [],
   "source": []
  },
  {
   "cell_type": "code",
   "execution_count": 22,
   "metadata": {},
   "outputs": [],
   "source": [
    "#### #### #### #### #### #### #### ######## #### #### #### #### #### #### ######## #### #### #### #### #### #### ######## #### #### ####"
   ]
  },
  {
   "cell_type": "code",
   "execution_count": 23,
   "metadata": {},
   "outputs": [],
   "source": [
    "#### #### #### #### #### #### #### #### #### #### ANALYZING CONSPIRATORY TWEETS #### #### #### #### #### #### #### #### #### #### #### "
   ]
  },
  {
   "cell_type": "code",
   "execution_count": 24,
   "metadata": {},
   "outputs": [],
   "source": [
    "#### #### #### #### #### #### #### ######## #### #### #### #### #### #### ######## #### #### #### #### #### #### ######## #### #### ####"
   ]
  },
  {
   "cell_type": "code",
   "execution_count": null,
   "metadata": {},
   "outputs": [],
   "source": []
  },
  {
   "cell_type": "code",
   "execution_count": 25,
   "metadata": {},
   "outputs": [],
   "source": [
    "#### CONSPIRATORY WORDS ####"
   ]
  },
  {
   "cell_type": "code",
   "execution_count": 26,
   "metadata": {},
   "outputs": [
    {
     "data": {
      "text/plain": [
       "[('radiation', 359),\n",
       " ('lie', 125),\n",
       " ('people', 119),\n",
       " ('emf', 107),\n",
       " ('health', 105),\n",
       " ('symptom', 86),\n",
       " ('exposure', 80),\n",
       " ('danger', 78),\n",
       " ('vaccine', 75),\n",
       " ('cause', 72),\n",
       " ('new', 69),\n",
       " ('tower', 67),\n",
       " ('time', 65),\n",
       " ('cell', 65),\n",
       " ('real', 65)]"
      ]
     },
     "execution_count": 26,
     "metadata": {},
     "output_type": "execute_result"
    }
   ],
   "source": [
    "# flatten list of all words in all conspiratory tweets and create a list of collections with the words and their counts\n",
    "\n",
    "import itertools\n",
    "import collections\n",
    "\n",
    "# clear list variable, since it gets initialized for some reason\n",
    "# and this then breaks the following \n",
    "del list\n",
    "\n",
    "# List of all words across tweets\n",
    "all_words = list(itertools.chain(*conspiracy_tweets['words_cleaned']))\n",
    "\n",
    "# Create counter\n",
    "counts = collections.Counter(all_words)\n",
    "\n",
    "counts.most_common(15)"
   ]
  },
  {
   "cell_type": "code",
   "execution_count": 27,
   "metadata": {},
   "outputs": [
    {
     "data": {
      "text/html": [
       "<div>\n",
       "<style scoped>\n",
       "    .dataframe tbody tr th:only-of-type {\n",
       "        vertical-align: middle;\n",
       "    }\n",
       "\n",
       "    .dataframe tbody tr th {\n",
       "        vertical-align: top;\n",
       "    }\n",
       "\n",
       "    .dataframe thead th {\n",
       "        text-align: right;\n",
       "    }\n",
       "</style>\n",
       "<table border=\"1\" class=\"dataframe\">\n",
       "  <thead>\n",
       "    <tr style=\"text-align: right;\">\n",
       "      <th></th>\n",
       "      <th>words</th>\n",
       "      <th>count</th>\n",
       "    </tr>\n",
       "  </thead>\n",
       "  <tbody>\n",
       "    <tr>\n",
       "      <th>0</th>\n",
       "      <td>radiation</td>\n",
       "      <td>359</td>\n",
       "    </tr>\n",
       "    <tr>\n",
       "      <th>1</th>\n",
       "      <td>lie</td>\n",
       "      <td>125</td>\n",
       "    </tr>\n",
       "    <tr>\n",
       "      <th>2</th>\n",
       "      <td>people</td>\n",
       "      <td>119</td>\n",
       "    </tr>\n",
       "    <tr>\n",
       "      <th>3</th>\n",
       "      <td>emf</td>\n",
       "      <td>107</td>\n",
       "    </tr>\n",
       "    <tr>\n",
       "      <th>4</th>\n",
       "      <td>health</td>\n",
       "      <td>105</td>\n",
       "    </tr>\n",
       "    <tr>\n",
       "      <th>5</th>\n",
       "      <td>symptom</td>\n",
       "      <td>86</td>\n",
       "    </tr>\n",
       "    <tr>\n",
       "      <th>6</th>\n",
       "      <td>exposure</td>\n",
       "      <td>80</td>\n",
       "    </tr>\n",
       "    <tr>\n",
       "      <th>7</th>\n",
       "      <td>danger</td>\n",
       "      <td>78</td>\n",
       "    </tr>\n",
       "    <tr>\n",
       "      <th>8</th>\n",
       "      <td>vaccine</td>\n",
       "      <td>75</td>\n",
       "    </tr>\n",
       "    <tr>\n",
       "      <th>9</th>\n",
       "      <td>cause</td>\n",
       "      <td>72</td>\n",
       "    </tr>\n",
       "  </tbody>\n",
       "</table>\n",
       "</div>"
      ],
      "text/plain": [
       "       words  count\n",
       "0  radiation    359\n",
       "1        lie    125\n",
       "2     people    119\n",
       "3        emf    107\n",
       "4     health    105\n",
       "5    symptom     86\n",
       "6   exposure     80\n",
       "7     danger     78\n",
       "8    vaccine     75\n",
       "9      cause     72"
      ]
     },
     "execution_count": 27,
     "metadata": {},
     "output_type": "execute_result"
    }
   ],
   "source": [
    "clean_conspiracy_tweets = pd.DataFrame(counts.most_common(50),\n",
    "                             columns=['words', 'count'])\n",
    "\n",
    "clean_conspiracy_tweets.head(10)"
   ]
  },
  {
   "cell_type": "code",
   "execution_count": 28,
   "metadata": {},
   "outputs": [
    {
     "data": {
      "image/png": "[encoded data removed]",
      "text/plain": [
       "<Figure size 576x576 with 1 Axes>"
      ]
     },
     "metadata": {
      "needs_background": "light"
     },
     "output_type": "display_data"
    }
   ],
   "source": [
    "from matplotlib import pyplot as plt\n",
    "\n",
    "fig, ax = plt.subplots(figsize=(8, 8))\n",
    "\n",
    "# Plot horizontal bar graph\n",
    "clean_conspiracy_tweets.sort_values(by='count').plot.barh(x='words',\n",
    "                      y='count',\n",
    "                      ax=ax,\n",
    "                      color=\"purple\")\n",
    "\n",
    "ax.set_title(\"Most common words found in conspiracy-themed tweets\")\n",
    "\n",
    "plt.show()"
   ]
  },
  {
   "cell_type": "code",
   "execution_count": 29,
   "metadata": {},
   "outputs": [
    {
     "data": {
      "text/plain": [
       "512                                                                                                                                     released, expert, panel, discussion\n",
       "565                                                                people, exposed, blood, oxygenate, properly, went, hospital, bathed, radiation, wifi, bed, clotted, died\n",
       "671                                                                     testimony, suffered, impact, health, working, airport, article, give, advice, protecting, radiation\n",
       "937                                                                                             life, entwined, nature, balance, molecule, harmony, destroy, visit, website\n",
       "958                                                                                 awareness, increased, independent, research, critical, related, mobile, smart, industry\n",
       "1803                     wouldnt, helped, admit, burning, bio, fuel, ongoing, time, wuhan, italy, london, newyork, switched, prior, advent, symptom, told, associate, virus\n",
       "2097    lennart, hardell, create, doubt, like, book, written, telecom, industry, product, need, people, waken, type, radiation, dangerous, human, health, nature, time, act\n",
       "Name: text_cleaned, dtype: object"
      ]
     },
     "execution_count": 29,
     "metadata": {},
     "output_type": "execute_result"
    }
   ],
   "source": [
    "# turn lists of strings into strings, divided with commas\n",
    "\n",
    "def combineIntoString(x):\n",
    "    return ', '.join(x)\n",
    "\n",
    "conspiracy_tweets['text_cleaned'] = conspiracy_tweets['words_cleaned'].apply(lambda x : combineIntoString(x))\n",
    "conspiracy_tweets['text_cleaned'].head(7)"
   ]
  },
  {
   "cell_type": "code",
   "execution_count": 30,
   "metadata": {},
   "outputs": [],
   "source": [
    "from sklearn.feature_extraction.text import CountVectorizer\n",
    "from sklearn.feature_extraction.text import TfidfVectorizer\n",
    "\n",
    "def preProcessor(s):\n",
    "    # we did all the preprocessing already, so return as is\n",
    "    return s\n",
    "    \n",
    "pd.options.display.max_colwidth = 1000\n",
    "pd.set_option('display.max_columns', None)\n",
    "\n",
    "tfidf_vectorizer = TfidfVectorizer(preprocessor = preProcessor,\n",
    "                                   max_df=0.75, min_df=3, use_idf=True)\n",
    "\n",
    "text_tfidf = tfidf_vectorizer.fit_transform(conspiracy_tweets['text_cleaned'])"
   ]
  },
  {
   "cell_type": "code",
   "execution_count": 31,
   "metadata": {},
   "outputs": [
    {
     "data": {
      "text/html": [
       "<div>\n",
       "<style scoped>\n",
       "    .dataframe tbody tr th:only-of-type {\n",
       "        vertical-align: middle;\n",
       "    }\n",
       "\n",
       "    .dataframe tbody tr th {\n",
       "        vertical-align: top;\n",
       "    }\n",
       "\n",
       "    .dataframe thead th {\n",
       "        text-align: right;\n",
       "    }\n",
       "</style>\n",
       "<table border=\"1\" class=\"dataframe\">\n",
       "  <thead>\n",
       "    <tr style=\"text-align: right;\">\n",
       "      <th></th>\n",
       "      <th>terms</th>\n",
       "      <th>tfidf</th>\n",
       "    </tr>\n",
       "  </thead>\n",
       "  <tbody>\n",
       "    <tr>\n",
       "      <th>1023</th>\n",
       "      <td>radiation</td>\n",
       "      <td>53.054486</td>\n",
       "    </tr>\n",
       "    <tr>\n",
       "      <th>934</th>\n",
       "      <td>people</td>\n",
       "      <td>26.968484</td>\n",
       "    </tr>\n",
       "    <tr>\n",
       "      <th>751</th>\n",
       "      <td>lie</td>\n",
       "      <td>24.895213</td>\n",
       "    </tr>\n",
       "    <tr>\n",
       "      <th>316</th>\n",
       "      <td>danger</td>\n",
       "      <td>24.519969</td>\n",
       "    </tr>\n",
       "    <tr>\n",
       "      <th>427</th>\n",
       "      <td>emf</td>\n",
       "      <td>23.147457</td>\n",
       "    </tr>\n",
       "    <tr>\n",
       "      <th>604</th>\n",
       "      <td>health</td>\n",
       "      <td>22.822489</td>\n",
       "    </tr>\n",
       "    <tr>\n",
       "      <th>1345</th>\n",
       "      <td>vaccine</td>\n",
       "      <td>20.726469</td>\n",
       "    </tr>\n",
       "    <tr>\n",
       "      <th>1038</th>\n",
       "      <td>real</td>\n",
       "      <td>19.230237</td>\n",
       "    </tr>\n",
       "    <tr>\n",
       "      <th>1237</th>\n",
       "      <td>symptom</td>\n",
       "      <td>18.765188</td>\n",
       "    </tr>\n",
       "    <tr>\n",
       "      <th>483</th>\n",
       "      <td>exposure</td>\n",
       "      <td>18.567078</td>\n",
       "    </tr>\n",
       "    <tr>\n",
       "      <th>314</th>\n",
       "      <td>daily</td>\n",
       "      <td>18.500718</td>\n",
       "    </tr>\n",
       "    <tr>\n",
       "      <th>89</th>\n",
       "      <td>atp</td>\n",
       "      <td>17.864241</td>\n",
       "    </tr>\n",
       "    <tr>\n",
       "      <th>872</th>\n",
       "      <td>new</td>\n",
       "      <td>16.748320</td>\n",
       "    </tr>\n",
       "    <tr>\n",
       "      <th>1289</th>\n",
       "      <td>tower</td>\n",
       "      <td>16.520592</td>\n",
       "    </tr>\n",
       "    <tr>\n",
       "      <th>191</th>\n",
       "      <td>cause</td>\n",
       "      <td>16.329199</td>\n",
       "    </tr>\n",
       "    <tr>\n",
       "      <th>416</th>\n",
       "      <td>effect</td>\n",
       "      <td>15.382041</td>\n",
       "    </tr>\n",
       "    <tr>\n",
       "      <th>1356</th>\n",
       "      <td>virus</td>\n",
       "      <td>15.232777</td>\n",
       "    </tr>\n",
       "    <tr>\n",
       "      <th>291</th>\n",
       "      <td>covid</td>\n",
       "      <td>15.148817</td>\n",
       "    </tr>\n",
       "    <tr>\n",
       "      <th>754</th>\n",
       "      <td>like</td>\n",
       "      <td>15.058603</td>\n",
       "    </tr>\n",
       "    <tr>\n",
       "      <th>195</th>\n",
       "      <td>cell</td>\n",
       "      <td>15.051681</td>\n",
       "    </tr>\n",
       "  </tbody>\n",
       "</table>\n",
       "</div>"
      ],
      "text/plain": [
       "          terms      tfidf\n",
       "1023  radiation  53.054486\n",
       "934      people  26.968484\n",
       "751         lie  24.895213\n",
       "316      danger  24.519969\n",
       "427         emf  23.147457\n",
       "604      health  22.822489\n",
       "1345    vaccine  20.726469\n",
       "1038       real  19.230237\n",
       "1237    symptom  18.765188\n",
       "483    exposure  18.567078\n",
       "314       daily  18.500718\n",
       "89          atp  17.864241\n",
       "872         new  16.748320\n",
       "1289      tower  16.520592\n",
       "191       cause  16.329199\n",
       "416      effect  15.382041\n",
       "1356      virus  15.232777\n",
       "291       covid  15.148817\n",
       "754        like  15.058603\n",
       "195        cell  15.051681"
      ]
     },
     "execution_count": 31,
     "metadata": {},
     "output_type": "execute_result"
    }
   ],
   "source": [
    "occ = np.asarray(text_tfidf.sum(axis=0)).ravel().tolist()\n",
    "tfidf_scores = pd.DataFrame({'terms': tfidf_vectorizer.get_feature_names(), 'tfidf': occ})\n",
    "\n",
    "tfidf_scores.sort_values('tfidf',ascending=False).head(20)"
   ]
  },
  {
   "cell_type": "code",
   "execution_count": null,
   "metadata": {},
   "outputs": [],
   "source": []
  },
  {
   "cell_type": "code",
   "execution_count": 32,
   "metadata": {},
   "outputs": [],
   "source": [
    "#### CONSPIRATORY HASHTAGS ####"
   ]
  },
  {
   "cell_type": "code",
   "execution_count": null,
   "metadata": {},
   "outputs": [],
   "source": []
  },
  {
   "cell_type": "code",
   "execution_count": 33,
   "metadata": {},
   "outputs": [
    {
     "data": {
      "text/plain": [
       "[('5g', 1492),\n",
       " ('covid19', 253),\n",
       " ('emf', 222),\n",
       " ('radiation', 164),\n",
       " ('nwo', 137),\n",
       " ('stop5g', 129),\n",
       " ('vaccines', 120),\n",
       " ('cancer', 106),\n",
       " ('health', 92),\n",
       " ('vaccine', 71),\n",
       " ('ai', 68),\n",
       " ('lockdown', 60),\n",
       " ('wireless', 59),\n",
       " ('billgates', 55),\n",
       " ('news', 54)]"
      ]
     },
     "execution_count": 33,
     "metadata": {},
     "output_type": "execute_result"
    }
   ],
   "source": [
    "# flatten list of all words in all tweets and create a list of collections with the words and their counts\n",
    "\n",
    "import itertools\n",
    "import collections\n",
    "\n",
    "# List of all words across tweets\n",
    "all_conspiracy_hashtags = list(itertools.chain(*conspiracy_tweets['hashtags']))\n",
    "\n",
    "# Create counter\n",
    "counts_conspiracy_hashtags = collections.Counter(all_conspiracy_hashtags)\n",
    "\n",
    "counts_conspiracy_hashtags.most_common(15)"
   ]
  },
  {
   "cell_type": "code",
   "execution_count": 34,
   "metadata": {},
   "outputs": [
    {
     "data": {
      "text/html": [
       "<div>\n",
       "<style scoped>\n",
       "    .dataframe tbody tr th:only-of-type {\n",
       "        vertical-align: middle;\n",
       "    }\n",
       "\n",
       "    .dataframe tbody tr th {\n",
       "        vertical-align: top;\n",
       "    }\n",
       "\n",
       "    .dataframe thead th {\n",
       "        text-align: right;\n",
       "    }\n",
       "</style>\n",
       "<table border=\"1\" class=\"dataframe\">\n",
       "  <thead>\n",
       "    <tr style=\"text-align: right;\">\n",
       "      <th></th>\n",
       "      <th>words</th>\n",
       "      <th>count</th>\n",
       "    </tr>\n",
       "  </thead>\n",
       "  <tbody>\n",
       "    <tr>\n",
       "      <th>1</th>\n",
       "      <td>covid19</td>\n",
       "      <td>253</td>\n",
       "    </tr>\n",
       "    <tr>\n",
       "      <th>2</th>\n",
       "      <td>emf</td>\n",
       "      <td>222</td>\n",
       "    </tr>\n",
       "    <tr>\n",
       "      <th>3</th>\n",
       "      <td>radiation</td>\n",
       "      <td>164</td>\n",
       "    </tr>\n",
       "    <tr>\n",
       "      <th>4</th>\n",
       "      <td>nwo</td>\n",
       "      <td>137</td>\n",
       "    </tr>\n",
       "    <tr>\n",
       "      <th>5</th>\n",
       "      <td>stop5g</td>\n",
       "      <td>129</td>\n",
       "    </tr>\n",
       "    <tr>\n",
       "      <th>6</th>\n",
       "      <td>vaccines</td>\n",
       "      <td>120</td>\n",
       "    </tr>\n",
       "    <tr>\n",
       "      <th>7</th>\n",
       "      <td>cancer</td>\n",
       "      <td>106</td>\n",
       "    </tr>\n",
       "    <tr>\n",
       "      <th>8</th>\n",
       "      <td>health</td>\n",
       "      <td>92</td>\n",
       "    </tr>\n",
       "    <tr>\n",
       "      <th>9</th>\n",
       "      <td>vaccine</td>\n",
       "      <td>71</td>\n",
       "    </tr>\n",
       "    <tr>\n",
       "      <th>10</th>\n",
       "      <td>ai</td>\n",
       "      <td>68</td>\n",
       "    </tr>\n",
       "  </tbody>\n",
       "</table>\n",
       "</div>"
      ],
      "text/plain": [
       "        words  count\n",
       "1     covid19    253\n",
       "2         emf    222\n",
       "3   radiation    164\n",
       "4         nwo    137\n",
       "5      stop5g    129\n",
       "6    vaccines    120\n",
       "7      cancer    106\n",
       "8      health     92\n",
       "9     vaccine     71\n",
       "10         ai     68"
      ]
     },
     "execution_count": 34,
     "metadata": {},
     "output_type": "execute_result"
    }
   ],
   "source": [
    "clean_conspiracy_hashtags = pd.DataFrame(counts_conspiracy_hashtags.most_common(50),\n",
    "                             columns=['words', 'count'])\n",
    "\n",
    "clean_conspiracy_hashtags = clean_conspiracy_hashtags[1:]\n",
    "clean_conspiracy_hashtags.head(10)"
   ]
  },
  {
   "cell_type": "code",
   "execution_count": 35,
   "metadata": {},
   "outputs": [
    {
     "data": {
      "image/png": "[encoded data removed]",
      "text/plain": [
       "<Figure size 576x576 with 1 Axes>"
      ]
     },
     "metadata": {
      "needs_background": "light"
     },
     "output_type": "display_data"
    }
   ],
   "source": [
    "from matplotlib import pyplot as plt\n",
    "\n",
    "fig, ax = plt.subplots(figsize=(8, 8))\n",
    "\n",
    "# Plot horizontal bar graph\n",
    "clean_conspiracy_hashtags.sort_values(by='count').plot.barh(x='words',\n",
    "                      y='count',\n",
    "                      ax=ax,\n",
    "                      color=\"purple\")\n",
    "\n",
    "ax.set_title(\"Most common hashtags found in conspiracy-themed tweets\")\n",
    "\n",
    "plt.show()"
   ]
  },
  {
   "cell_type": "code",
   "execution_count": 36,
   "metadata": {},
   "outputs": [
    {
     "data": {
      "text/plain": [
       "512     new, 2019, conference, authors, brianclement, katiesinger, theodorascarato, cellphone, radiation, 5g, wireless\n",
       "565                                                                      wuhan, northernitaly, london, newyork, 5g, 5g\n",
       "671                                                                                                            5g, emf\n",
       "937                                    5gjusticeuk, 5g, 5gdangers, health, publicsafety, emfprotection, wedonotconsent\n",
       "958                                                                                                            5g, emf\n",
       "1803                                                                                                                5g\n",
       "2097                                                                                                                5g\n",
       "Name: hashtags_cleaned, dtype: object"
      ]
     },
     "execution_count": 36,
     "metadata": {},
     "output_type": "execute_result"
    }
   ],
   "source": [
    "# turn lists of strings into strings, divided with commas\n",
    "\n",
    "def combineIntoString(x):\n",
    "    return ', '.join(x)\n",
    "\n",
    "conspiracy_tweets['hashtags_cleaned'] = conspiracy_tweets['hashtags'].apply(lambda x : combineIntoString(x))\n",
    "conspiracy_tweets['hashtags_cleaned'].head(7)"
   ]
  },
  {
   "cell_type": "code",
   "execution_count": 37,
   "metadata": {},
   "outputs": [],
   "source": [
    "from sklearn.feature_extraction.text import CountVectorizer\n",
    "from sklearn.feature_extraction.text import TfidfVectorizer\n",
    "\n",
    "def preProcessor(s):\n",
    "    # we did all the preprocessing already, so return as is\n",
    "    return s\n",
    "    \n",
    "pd.options.display.max_colwidth = 1000\n",
    "pd.set_option('display.max_columns', None)\n",
    "\n",
    "tfidf_vectorizer = TfidfVectorizer(preprocessor = preProcessor,\n",
    "                                   max_df=0.75, min_df=3, use_idf=True)\n",
    "\n",
    "text_tfidf = tfidf_vectorizer.fit_transform(conspiracy_tweets['hashtags_cleaned'])"
   ]
  },
  {
   "cell_type": "code",
   "execution_count": 38,
   "metadata": {},
   "outputs": [
    {
     "data": {
      "text/html": [
       "<div>\n",
       "<style scoped>\n",
       "    .dataframe tbody tr th:only-of-type {\n",
       "        vertical-align: middle;\n",
       "    }\n",
       "\n",
       "    .dataframe tbody tr th {\n",
       "        vertical-align: top;\n",
       "    }\n",
       "\n",
       "    .dataframe thead th {\n",
       "        text-align: right;\n",
       "    }\n",
       "</style>\n",
       "<table border=\"1\" class=\"dataframe\">\n",
       "  <thead>\n",
       "    <tr style=\"text-align: right;\">\n",
       "      <th></th>\n",
       "      <th>terms</th>\n",
       "      <th>tfidf</th>\n",
       "    </tr>\n",
       "  </thead>\n",
       "  <tbody>\n",
       "    <tr>\n",
       "      <th>125</th>\n",
       "      <td>covid19</td>\n",
       "      <td>96.092162</td>\n",
       "    </tr>\n",
       "    <tr>\n",
       "      <th>176</th>\n",
       "      <td>emf</td>\n",
       "      <td>93.830832</td>\n",
       "    </tr>\n",
       "    <tr>\n",
       "      <th>393</th>\n",
       "      <td>radiation</td>\n",
       "      <td>62.403782</td>\n",
       "    </tr>\n",
       "    <tr>\n",
       "      <th>349</th>\n",
       "      <td>nwo</td>\n",
       "      <td>46.751435</td>\n",
       "    </tr>\n",
       "    <tr>\n",
       "      <th>454</th>\n",
       "      <td>stop5g</td>\n",
       "      <td>42.572778</td>\n",
       "    </tr>\n",
       "    <tr>\n",
       "      <th>85</th>\n",
       "      <td>cancer</td>\n",
       "      <td>38.416540</td>\n",
       "    </tr>\n",
       "    <tr>\n",
       "      <th>500</th>\n",
       "      <td>vaccines</td>\n",
       "      <td>38.294855</td>\n",
       "    </tr>\n",
       "    <tr>\n",
       "      <th>236</th>\n",
       "      <td>health</td>\n",
       "      <td>31.398258</td>\n",
       "    </tr>\n",
       "    <tr>\n",
       "      <th>499</th>\n",
       "      <td>vaccine</td>\n",
       "      <td>30.086203</td>\n",
       "    </tr>\n",
       "    <tr>\n",
       "      <th>65</th>\n",
       "      <td>billgates</td>\n",
       "      <td>24.464007</td>\n",
       "    </tr>\n",
       "    <tr>\n",
       "      <th>520</th>\n",
       "      <td>wireless</td>\n",
       "      <td>22.815570</td>\n",
       "    </tr>\n",
       "    <tr>\n",
       "      <th>124</th>\n",
       "      <td>covid</td>\n",
       "      <td>20.417645</td>\n",
       "    </tr>\n",
       "    <tr>\n",
       "      <th>282</th>\n",
       "      <td>lockdown</td>\n",
       "      <td>18.995338</td>\n",
       "    </tr>\n",
       "    <tr>\n",
       "      <th>370</th>\n",
       "      <td>plandemic</td>\n",
       "      <td>18.750702</td>\n",
       "    </tr>\n",
       "    <tr>\n",
       "      <th>518</th>\n",
       "      <td>wifi</td>\n",
       "      <td>18.264723</td>\n",
       "    </tr>\n",
       "    <tr>\n",
       "      <th>121</th>\n",
       "      <td>coronavirus</td>\n",
       "      <td>17.883783</td>\n",
       "    </tr>\n",
       "    <tr>\n",
       "      <th>35</th>\n",
       "      <td>ai</td>\n",
       "      <td>17.867918</td>\n",
       "    </tr>\n",
       "    <tr>\n",
       "      <th>90</th>\n",
       "      <td>cellphone</td>\n",
       "      <td>16.544654</td>\n",
       "    </tr>\n",
       "    <tr>\n",
       "      <th>147</th>\n",
       "      <td>depopulationagenda</td>\n",
       "      <td>15.272721</td>\n",
       "    </tr>\n",
       "    <tr>\n",
       "      <th>325</th>\n",
       "      <td>msm</td>\n",
       "      <td>13.691068</td>\n",
       "    </tr>\n",
       "  </tbody>\n",
       "</table>\n",
       "</div>"
      ],
      "text/plain": [
       "                  terms      tfidf\n",
       "125             covid19  96.092162\n",
       "176                 emf  93.830832\n",
       "393           radiation  62.403782\n",
       "349                 nwo  46.751435\n",
       "454              stop5g  42.572778\n",
       "85               cancer  38.416540\n",
       "500            vaccines  38.294855\n",
       "236              health  31.398258\n",
       "499             vaccine  30.086203\n",
       "65            billgates  24.464007\n",
       "520            wireless  22.815570\n",
       "124               covid  20.417645\n",
       "282            lockdown  18.995338\n",
       "370           plandemic  18.750702\n",
       "518                wifi  18.264723\n",
       "121         coronavirus  17.883783\n",
       "35                   ai  17.867918\n",
       "90            cellphone  16.544654\n",
       "147  depopulationagenda  15.272721\n",
       "325                 msm  13.691068"
      ]
     },
     "execution_count": 38,
     "metadata": {},
     "output_type": "execute_result"
    }
   ],
   "source": [
    "occ = np.asarray(text_tfidf.sum(axis=0)).ravel().tolist()\n",
    "tfidf_scores = pd.DataFrame({'terms': tfidf_vectorizer.get_feature_names(), 'tfidf': occ})\n",
    "\n",
    "tfidf_scores.sort_values('tfidf',ascending=False).head(20)"
   ]
  },
  {
   "cell_type": "code",
   "execution_count": null,
   "metadata": {},
   "outputs": [],
   "source": []
  },
  {
   "cell_type": "code",
   "execution_count": 39,
   "metadata": {},
   "outputs": [],
   "source": [
    "#### SENTIMENT: CONSPIRATORY #####"
   ]
  },
  {
   "cell_type": "code",
   "execution_count": 40,
   "metadata": {},
   "outputs": [],
   "source": [
    "# Analyze the sentiment with Vader\n",
    "# https://github.com/pjwebdev/Basic-Data-Science-Projects/blob/master/8-Twitter-Sentiment-Analysis/Tweeter%20Sentiment%20Analysis.ipynb\n",
    "\n",
    "from vaderSentiment.vaderSentiment import SentimentIntensityAnalyzer\n",
    "analyser = SentimentIntensityAnalyzer()\n",
    "\n",
    "scores = []\n",
    "\n",
    "for sentence in conspiracy_tweets['text']:\n",
    "    score = analyser.polarity_scores(sentence)\n",
    "    c = score['compound']\n",
    "    if c < 0:\n",
    "        value = 'Negative'\n",
    "    elif c == 0:\n",
    "        value = 'Neutral'\n",
    "    else:\n",
    "        value = 'Positive'\n",
    "    scores.append(value)\n",
    "\n",
    "conspiracy_tweets['sentiment'] = scores"
   ]
  },
  {
   "cell_type": "code",
   "execution_count": 41,
   "metadata": {},
   "outputs": [
    {
     "data": {
      "text/html": [
       "<div>\n",
       "<style scoped>\n",
       "    .dataframe tbody tr th:only-of-type {\n",
       "        vertical-align: middle;\n",
       "    }\n",
       "\n",
       "    .dataframe tbody tr th {\n",
       "        vertical-align: top;\n",
       "    }\n",
       "\n",
       "    .dataframe thead th {\n",
       "        text-align: right;\n",
       "    }\n",
       "</style>\n",
       "<table border=\"1\" class=\"dataframe\">\n",
       "  <thead>\n",
       "    <tr style=\"text-align: right;\">\n",
       "      <th></th>\n",
       "      <th>id_str</th>\n",
       "      <th>text</th>\n",
       "      <th>hashtags</th>\n",
       "      <th>text_cleaned</th>\n",
       "      <th>words_cleaned</th>\n",
       "      <th>is_conspiracy_related</th>\n",
       "      <th>hashtags_cleaned</th>\n",
       "      <th>sentiment</th>\n",
       "    </tr>\n",
       "  </thead>\n",
       "  <tbody>\n",
       "    <tr>\n",
       "      <th>512</th>\n",
       "      <td>1331920650806710272</td>\n",
       "      <td>#New #2019  #Conference -  Just Released,  #authors, #BrianClement, #KatieSinger, #TheodoraScarato;  An expert panel discussion on About #CellPhone #Radiation and #5G #Wireless, https://t.co/IpprWpukKC</td>\n",
       "      <td>[new, 2019, conference, authors, brianclement, katiesinger, theodorascarato, cellphone, radiation, 5g, wireless]</td>\n",
       "      <td>released, expert, panel, discussion</td>\n",
       "      <td>[released, expert, panel, discussion]</td>\n",
       "      <td>True</td>\n",
       "      <td>new, 2019, conference, authors, brianclement, katiesinger, theodorascarato, cellphone, radiation, 5g, wireless</td>\n",
       "      <td>Neutral</td>\n",
       "    </tr>\n",
       "    <tr>\n",
       "      <th>565</th>\n",
       "      <td>1331918312352206852</td>\n",
       "      <td>RT @2013Boodicca: The people of #Wuhan &amp;amp; #NorthernItaly, then #London &amp;amp; #NewYork etc were exposed to #5G.\\nTheir blood couldn't oxygenate properly.\\nThey went to hospitals where they were bathed in more #5G radiation from wifi to every bed.\\nTheir blood clotted &amp;amp; they died.\\nhttps://t.co/srkItnu6qR</td>\n",
       "      <td>[wuhan, northernitaly, london, newyork, 5g, 5g]</td>\n",
       "      <td>people, exposed, blood, oxygenate, properly, went, hospital, bathed, radiation, wifi, bed, clotted, died</td>\n",
       "      <td>[people, exposed, blood, oxygenate, properly, went, hospital, bathed, radiation, wifi, bed, clotted, died]</td>\n",
       "      <td>True</td>\n",
       "      <td>wuhan, northernitaly, london, newyork, 5g, 5g</td>\n",
       "      <td>Negative</td>\n",
       "    </tr>\n",
       "    <tr>\n",
       "      <th>671</th>\n",
       "      <td>1331914317197946880</td>\n",
       "      <td>RT @2013Boodicca: @rosemaryhopkin You are not alone. Here is testimony from someone who suffered #5G impact on his health while working at one of our airports.\\nThis article also gives some advice about protecting yourself from #EMF radiation.\\nhttps://t.co/CnZeGqVXpS</td>\n",
       "      <td>[5g, emf]</td>\n",
       "      <td>testimony, suffered, impact, health, working, airport, article, give, advice, protecting, radiation</td>\n",
       "      <td>[testimony, suffered, impact, health, working, airport, article, give, advice, protecting, radiation]</td>\n",
       "      <td>True</td>\n",
       "      <td>5g, emf</td>\n",
       "      <td>Negative</td>\n",
       "    </tr>\n",
       "    <tr>\n",
       "      <th>937</th>\n",
       "      <td>1331905175577972737</td>\n",
       "      <td>RT @ActionAgainst5G: Life entwined. Nature in balance. Molecules in harmony. Why would anyone destroy it?\\n\\nhttps://t.co/336cQl2EyQ\\n\\nVisit our website: https://t.co/pKHofynGKp\\n\\n#5gjusticeuk\\n#5g #5gdangers #health #publicsafety #emfprotection #wedonotconsent https://t.co/lpFpdxVeeN</td>\n",
       "      <td>[5gjusticeuk, 5g, 5gdangers, health, publicsafety, emfprotection, wedonotconsent]</td>\n",
       "      <td>life, entwined, nature, balance, molecule, harmony, destroy, visit, website</td>\n",
       "      <td>[life, entwined, nature, balance, molecule, harmony, destroy, visit, website]</td>\n",
       "      <td>True</td>\n",
       "      <td>5gjusticeuk, 5g, 5gdangers, health, publicsafety, emfprotection, wedonotconsent</td>\n",
       "      <td>Negative</td>\n",
       "    </tr>\n",
       "    <tr>\n",
       "      <th>958</th>\n",
       "      <td>1331904456116613122</td>\n",
       "      <td>#5G Awareness #EMF increased independent research is critical &amp;amp; not by any one related to the Mobile or Smart industry. https://t.co/seiMpPeqC8</td>\n",
       "      <td>[5g, emf]</td>\n",
       "      <td>awareness, increased, independent, research, critical, related, mobile, smart, industry</td>\n",
       "      <td>[awareness, increased, independent, research, critical, related, mobile, smart, industry]</td>\n",
       "      <td>True</td>\n",
       "      <td>5g, emf</td>\n",
       "      <td>Positive</td>\n",
       "    </tr>\n",
       "    <tr>\n",
       "      <th>1803</th>\n",
       "      <td>1331875907892633601</td>\n",
       "      <td>RT @2013Boodicca: @Manofthesoil2 That wouldn't have helped much either, but you have to admit that the burning of bio fuel had been ongoing for some time in Wuhan (but not in Italy or London or NewYork).\\n#5G was switched on just prior to the advent of the symptoms we have been told to associate with a \"virus\".</td>\n",
       "      <td>[5g]</td>\n",
       "      <td>wouldnt, helped, admit, burning, bio, fuel, ongoing, time, wuhan, italy, london, newyork, switched, prior, advent, symptom, told, associate, virus</td>\n",
       "      <td>[wouldnt, helped, admit, burning, bio, fuel, ongoing, time, wuhan, italy, london, newyork, switched, prior, advent, symptom, told, associate, virus]</td>\n",
       "      <td>True</td>\n",
       "      <td>5g</td>\n",
       "      <td>Positive</td>\n",
       "    </tr>\n",
       "  </tbody>\n",
       "</table>\n",
       "</div>"
      ],
      "text/plain": [
       "                   id_str  \\\n",
       "512   1331920650806710272   \n",
       "565   1331918312352206852   \n",
       "671   1331914317197946880   \n",
       "937   1331905175577972737   \n",
       "958   1331904456116613122   \n",
       "1803  1331875907892633601   \n",
       "\n",
       "                                                                                                                                                                                                                                                                                                                          text  \\\n",
       "512                                                                                                                  #New #2019  #Conference -  Just Released,  #authors, #BrianClement, #KatieSinger, #TheodoraScarato;  An expert panel discussion on About #CellPhone #Radiation and #5G #Wireless, https://t.co/IpprWpukKC   \n",
       "565    RT @2013Boodicca: The people of #Wuhan &amp; #NorthernItaly, then #London &amp; #NewYork etc were exposed to #5G.\\nTheir blood couldn't oxygenate properly.\\nThey went to hospitals where they were bathed in more #5G radiation from wifi to every bed.\\nTheir blood clotted &amp; they died.\\nhttps://t.co/srkItnu6qR   \n",
       "671                                               RT @2013Boodicca: @rosemaryhopkin You are not alone. Here is testimony from someone who suffered #5G impact on his health while working at one of our airports.\\nThis article also gives some advice about protecting yourself from #EMF radiation.\\nhttps://t.co/CnZeGqVXpS   \n",
       "937                            RT @ActionAgainst5G: Life entwined. Nature in balance. Molecules in harmony. Why would anyone destroy it?\\n\\nhttps://t.co/336cQl2EyQ\\n\\nVisit our website: https://t.co/pKHofynGKp\\n\\n#5gjusticeuk\\n#5g #5gdangers #health #publicsafety #emfprotection #wedonotconsent https://t.co/lpFpdxVeeN   \n",
       "958                                                                                                                                                                        #5G Awareness #EMF increased independent research is critical &amp; not by any one related to the Mobile or Smart industry. https://t.co/seiMpPeqC8   \n",
       "1803  RT @2013Boodicca: @Manofthesoil2 That wouldn't have helped much either, but you have to admit that the burning of bio fuel had been ongoing for some time in Wuhan (but not in Italy or London or NewYork).\\n#5G was switched on just prior to the advent of the symptoms we have been told to associate with a \"virus\".   \n",
       "\n",
       "                                                                                                              hashtags  \\\n",
       "512   [new, 2019, conference, authors, brianclement, katiesinger, theodorascarato, cellphone, radiation, 5g, wireless]   \n",
       "565                                                                    [wuhan, northernitaly, london, newyork, 5g, 5g]   \n",
       "671                                                                                                          [5g, emf]   \n",
       "937                                  [5gjusticeuk, 5g, 5gdangers, health, publicsafety, emfprotection, wedonotconsent]   \n",
       "958                                                                                                          [5g, emf]   \n",
       "1803                                                                                                              [5g]   \n",
       "\n",
       "                                                                                                                                            text_cleaned  \\\n",
       "512                                                                                                                  released, expert, panel, discussion   \n",
       "565                                             people, exposed, blood, oxygenate, properly, went, hospital, bathed, radiation, wifi, bed, clotted, died   \n",
       "671                                                  testimony, suffered, impact, health, working, airport, article, give, advice, protecting, radiation   \n",
       "937                                                                          life, entwined, nature, balance, molecule, harmony, destroy, visit, website   \n",
       "958                                                              awareness, increased, independent, research, critical, related, mobile, smart, industry   \n",
       "1803  wouldnt, helped, admit, burning, bio, fuel, ongoing, time, wuhan, italy, london, newyork, switched, prior, advent, symptom, told, associate, virus   \n",
       "\n",
       "                                                                                                                                             words_cleaned  \\\n",
       "512                                                                                                                  [released, expert, panel, discussion]   \n",
       "565                                             [people, exposed, blood, oxygenate, properly, went, hospital, bathed, radiation, wifi, bed, clotted, died]   \n",
       "671                                                  [testimony, suffered, impact, health, working, airport, article, give, advice, protecting, radiation]   \n",
       "937                                                                          [life, entwined, nature, balance, molecule, harmony, destroy, visit, website]   \n",
       "958                                                              [awareness, increased, independent, research, critical, related, mobile, smart, industry]   \n",
       "1803  [wouldnt, helped, admit, burning, bio, fuel, ongoing, time, wuhan, italy, london, newyork, switched, prior, advent, symptom, told, associate, virus]   \n",
       "\n",
       "      is_conspiracy_related  \\\n",
       "512                    True   \n",
       "565                    True   \n",
       "671                    True   \n",
       "937                    True   \n",
       "958                    True   \n",
       "1803                   True   \n",
       "\n",
       "                                                                                                    hashtags_cleaned  \\\n",
       "512   new, 2019, conference, authors, brianclement, katiesinger, theodorascarato, cellphone, radiation, 5g, wireless   \n",
       "565                                                                    wuhan, northernitaly, london, newyork, 5g, 5g   \n",
       "671                                                                                                          5g, emf   \n",
       "937                                  5gjusticeuk, 5g, 5gdangers, health, publicsafety, emfprotection, wedonotconsent   \n",
       "958                                                                                                          5g, emf   \n",
       "1803                                                                                                              5g   \n",
       "\n",
       "     sentiment  \n",
       "512    Neutral  \n",
       "565   Negative  \n",
       "671   Negative  \n",
       "937   Negative  \n",
       "958   Positive  \n",
       "1803  Positive  "
      ]
     },
     "execution_count": 41,
     "metadata": {},
     "output_type": "execute_result"
    }
   ],
   "source": [
    "conspiracy_tweets.head(6)"
   ]
  },
  {
   "cell_type": "code",
   "execution_count": 42,
   "metadata": {},
   "outputs": [
    {
     "data": {
      "text/plain": [
       "<BarContainer object of 3 artists>"
      ]
     },
     "execution_count": 42,
     "metadata": {},
     "output_type": "execute_result"
    },
    {
     "data": {
      "image/png": "[encoded data removed]",
      "text/plain": [
       "<Figure size 432x288 with 1 Axes>"
      ]
     },
     "metadata": {
      "needs_background": "light"
     },
     "output_type": "display_data"
    }
   ],
   "source": [
    "labels = conspiracy_tweets.groupby('sentiment').count().index.values\n",
    "\n",
    "values = conspiracy_tweets.groupby('sentiment').size().values\n",
    "\n",
    "axes = plt.gca()\n",
    "axes.set_ylim([0.0, 0.75])\n",
    "\n",
    "plt.bar(labels, values / conspiracy_tweets.shape[0] )"
   ]
  },
  {
   "cell_type": "code",
   "execution_count": 43,
   "metadata": {},
   "outputs": [
    {
     "name": "stdout",
     "output_type": "stream",
     "text": [
      "36.57 % of positive tweets\n"
     ]
    }
   ],
   "source": [
    "positive = conspiracy_tweets[conspiracy_tweets['sentiment'] == 'Positive']\n",
    "\n",
    "print(str(round(positive.shape[0]/(conspiracy_tweets.shape[0])*100, 2)) + \" % of positive tweets\")"
   ]
  },
  {
   "cell_type": "code",
   "execution_count": 44,
   "metadata": {},
   "outputs": [],
   "source": [
    "#### #### #### #### #### #### #### ######## #### #### #### #### #### #### ######## #### #### #### #### #### #### ######## #### #### ####"
   ]
  },
  {
   "cell_type": "code",
   "execution_count": 45,
   "metadata": {},
   "outputs": [],
   "source": [
    "#### #### #### #### #### #### #### #### #### #### ANALYZING NON-CONSPIRATORY TWEETS #### #### #### #### #### #### #### #### #### #### #### "
   ]
  },
  {
   "cell_type": "code",
   "execution_count": 46,
   "metadata": {},
   "outputs": [],
   "source": [
    "#### #### #### #### #### #### #### ######## #### #### #### #### #### #### ######## #### #### #### #### #### #### ######## #### #### ####"
   ]
  },
  {
   "cell_type": "code",
   "execution_count": 47,
   "metadata": {},
   "outputs": [
    {
     "data": {
      "text/plain": [
       "(54195, 6)"
      ]
     },
     "execution_count": 47,
     "metadata": {},
     "output_type": "execute_result"
    }
   ],
   "source": [
    "# Then let's analyze the non-conspiratory tweets\n",
    "non_conspiracy_tweets = tweets[tweets['is_conspiracy_related'] == False]\n",
    "non_conspiracy_tweets.shape"
   ]
  },
  {
   "cell_type": "code",
   "execution_count": null,
   "metadata": {},
   "outputs": [],
   "source": []
  },
  {
   "cell_type": "code",
   "execution_count": 49,
   "metadata": {},
   "outputs": [],
   "source": [
    "#### NON-CONSPIRATORY WORDS ####"
   ]
  },
  {
   "cell_type": "code",
   "execution_count": null,
   "metadata": {},
   "outputs": [],
   "source": []
  },
  {
   "cell_type": "code",
   "execution_count": 50,
   "metadata": {},
   "outputs": [
    {
     "data": {
      "text/plain": [
       "[('network', 7085),\n",
       " ('new', 5410),\n",
       " ('technology', 3950),\n",
       " ('read', 3312),\n",
       " ('learn', 2653),\n",
       " ('future', 2373),\n",
       " ('business', 2309),\n",
       " ('service', 2308),\n",
       " ('join', 2303),\n",
       " ('industry', 2291),\n",
       " ('world', 2119),\n",
       " ('use', 1980),\n",
       " ('mobile', 1887),\n",
       " ('need', 1823),\n",
       " ('today', 1779)]"
      ]
     },
     "execution_count": 50,
     "metadata": {},
     "output_type": "execute_result"
    }
   ],
   "source": [
    "# flatten list of all words in all conspiratory tweets and create a list of collections with the words and their counts\n",
    "\n",
    "import itertools\n",
    "import collections\n",
    "\n",
    "# List of all words across tweets\n",
    "all_words = list(itertools.chain(*non_conspiracy_tweets['words_cleaned']))\n",
    "\n",
    "# Create counter\n",
    "counts = collections.Counter(all_words)\n",
    "\n",
    "counts.most_common(15)"
   ]
  },
  {
   "cell_type": "code",
   "execution_count": 51,
   "metadata": {},
   "outputs": [
    {
     "data": {
      "text/html": [
       "<div>\n",
       "<style scoped>\n",
       "    .dataframe tbody tr th:only-of-type {\n",
       "        vertical-align: middle;\n",
       "    }\n",
       "\n",
       "    .dataframe tbody tr th {\n",
       "        vertical-align: top;\n",
       "    }\n",
       "\n",
       "    .dataframe thead th {\n",
       "        text-align: right;\n",
       "    }\n",
       "</style>\n",
       "<table border=\"1\" class=\"dataframe\">\n",
       "  <thead>\n",
       "    <tr style=\"text-align: right;\">\n",
       "      <th></th>\n",
       "      <th>words</th>\n",
       "      <th>count</th>\n",
       "    </tr>\n",
       "  </thead>\n",
       "  <tbody>\n",
       "    <tr>\n",
       "      <th>0</th>\n",
       "      <td>network</td>\n",
       "      <td>7085</td>\n",
       "    </tr>\n",
       "    <tr>\n",
       "      <th>1</th>\n",
       "      <td>new</td>\n",
       "      <td>5410</td>\n",
       "    </tr>\n",
       "    <tr>\n",
       "      <th>2</th>\n",
       "      <td>technology</td>\n",
       "      <td>3950</td>\n",
       "    </tr>\n",
       "    <tr>\n",
       "      <th>3</th>\n",
       "      <td>read</td>\n",
       "      <td>3312</td>\n",
       "    </tr>\n",
       "    <tr>\n",
       "      <th>4</th>\n",
       "      <td>learn</td>\n",
       "      <td>2653</td>\n",
       "    </tr>\n",
       "    <tr>\n",
       "      <th>5</th>\n",
       "      <td>future</td>\n",
       "      <td>2373</td>\n",
       "    </tr>\n",
       "    <tr>\n",
       "      <th>6</th>\n",
       "      <td>business</td>\n",
       "      <td>2309</td>\n",
       "    </tr>\n",
       "    <tr>\n",
       "      <th>7</th>\n",
       "      <td>service</td>\n",
       "      <td>2308</td>\n",
       "    </tr>\n",
       "    <tr>\n",
       "      <th>8</th>\n",
       "      <td>join</td>\n",
       "      <td>2303</td>\n",
       "    </tr>\n",
       "    <tr>\n",
       "      <th>9</th>\n",
       "      <td>industry</td>\n",
       "      <td>2291</td>\n",
       "    </tr>\n",
       "  </tbody>\n",
       "</table>\n",
       "</div>"
      ],
      "text/plain": [
       "        words  count\n",
       "0     network   7085\n",
       "1         new   5410\n",
       "2  technology   3950\n",
       "3        read   3312\n",
       "4       learn   2653\n",
       "5      future   2373\n",
       "6    business   2309\n",
       "7     service   2308\n",
       "8        join   2303\n",
       "9    industry   2291"
      ]
     },
     "execution_count": 51,
     "metadata": {},
     "output_type": "execute_result"
    }
   ],
   "source": [
    "clean_non_conspiracy_tweets = pd.DataFrame(counts.most_common(50),\n",
    "                             columns=['words', 'count'])\n",
    "\n",
    "clean_non_conspiracy_tweets.head(10)"
   ]
  },
  {
   "cell_type": "code",
   "execution_count": 52,
   "metadata": {},
   "outputs": [
    {
     "data": {
      "image/png": "[encoded data removed]",
      "text/plain": [
       "<Figure size 576x576 with 1 Axes>"
      ]
     },
     "metadata": {
      "needs_background": "light"
     },
     "output_type": "display_data"
    }
   ],
   "source": [
    "from matplotlib import pyplot as plt\n",
    "\n",
    "fig, ax = plt.subplots(figsize=(8, 8))\n",
    "\n",
    "# Plot horizontal bar graph\n",
    "clean_non_conspiracy_tweets.sort_values(by='count').plot.barh(x='words',\n",
    "                      y='count',\n",
    "                      ax=ax,\n",
    "                      color=\"purple\")\n",
    "\n",
    "ax.set_title(\"Most common words found in non-conspiracy tweets\")\n",
    "\n",
    "plt.show()"
   ]
  },
  {
   "cell_type": "code",
   "execution_count": 53,
   "metadata": {},
   "outputs": [
    {
     "data": {
      "text/plain": [
       "1                                                                                                                                                      reducing, reusing, recycling\n",
       "2                                                                      closing, year, belter, episode, trust, network, remotely, ink, skin, thanks, week, sponsor, content, partner\n",
       "3     2020, held, november, convention, gather, scientist, service, provider, communication, industry, conduct, discussion, cuttingedge, technology, trend, innovative, application\n",
       "4    pioneer, launching, campus, lead, plant, feuerbach, germany, enables, extremely, reliable, ultrafast, wireless, transfer, critical, application, autonomous, transport, system\n",
       "5                                                                 know, border, communication, mutual, learning, develop, technology, life, world, transformed, better, importantly\n",
       "6                                                                                                                                                                key, tip, aspiring\n",
       "7                                                                                                                                                      reducing, reusing, recycling\n",
       "Name: text_cleaned, dtype: object"
      ]
     },
     "execution_count": 53,
     "metadata": {},
     "output_type": "execute_result"
    }
   ],
   "source": [
    "# turn lists of strings into strings, divided with commas\n",
    "\n",
    "def combineIntoString(x):\n",
    "    return ', '.join(x)\n",
    "\n",
    "non_conspiracy_tweets['text_cleaned'] = non_conspiracy_tweets['words_cleaned'].apply(lambda x : combineIntoString(x))\n",
    "non_conspiracy_tweets['text_cleaned'].head(7)"
   ]
  },
  {
   "cell_type": "code",
   "execution_count": 54,
   "metadata": {},
   "outputs": [],
   "source": [
    "from sklearn.feature_extraction.text import CountVectorizer\n",
    "from sklearn.feature_extraction.text import TfidfVectorizer\n",
    "\n",
    "def preProcessor(s):\n",
    "    # we did all the preprocessing already, so return as is\n",
    "    return s\n",
    "    \n",
    "pd.options.display.max_colwidth = 1000\n",
    "pd.set_option('display.max_columns', None)\n",
    "\n",
    "tfidf_vectorizer = TfidfVectorizer(preprocessor = preProcessor,\n",
    "                                   max_df=0.75, min_df=3, use_idf=True)\n",
    "\n",
    "text_tfidf = tfidf_vectorizer.fit_transform(non_conspiracy_tweets['text_cleaned'])"
   ]
  },
  {
   "cell_type": "code",
   "execution_count": 55,
   "metadata": {},
   "outputs": [
    {
     "data": {
      "text/html": [
       "<div>\n",
       "<style scoped>\n",
       "    .dataframe tbody tr th:only-of-type {\n",
       "        vertical-align: middle;\n",
       "    }\n",
       "\n",
       "    .dataframe tbody tr th {\n",
       "        vertical-align: top;\n",
       "    }\n",
       "\n",
       "    .dataframe thead th {\n",
       "        text-align: right;\n",
       "    }\n",
       "</style>\n",
       "<table border=\"1\" class=\"dataframe\">\n",
       "  <thead>\n",
       "    <tr style=\"text-align: right;\">\n",
       "      <th></th>\n",
       "      <th>terms</th>\n",
       "      <th>tfidf</th>\n",
       "    </tr>\n",
       "  </thead>\n",
       "  <tbody>\n",
       "    <tr>\n",
       "      <th>7388</th>\n",
       "      <td>network</td>\n",
       "      <td>1058.472974</td>\n",
       "    </tr>\n",
       "    <tr>\n",
       "      <th>7406</th>\n",
       "      <td>new</td>\n",
       "      <td>879.242328</td>\n",
       "    </tr>\n",
       "    <tr>\n",
       "      <th>10661</th>\n",
       "      <td>technology</td>\n",
       "      <td>715.803552</td>\n",
       "    </tr>\n",
       "    <tr>\n",
       "      <th>8797</th>\n",
       "      <td>read</td>\n",
       "      <td>690.055552</td>\n",
       "    </tr>\n",
       "    <tr>\n",
       "      <th>4771</th>\n",
       "      <td>future</td>\n",
       "      <td>549.853865</td>\n",
       "    </tr>\n",
       "    <tr>\n",
       "      <th>6350</th>\n",
       "      <td>learn</td>\n",
       "      <td>517.391042</td>\n",
       "    </tr>\n",
       "    <tr>\n",
       "      <th>2060</th>\n",
       "      <td>business</td>\n",
       "      <td>485.267777</td>\n",
       "    </tr>\n",
       "    <tr>\n",
       "      <th>5681</th>\n",
       "      <td>industry</td>\n",
       "      <td>469.688568</td>\n",
       "    </tr>\n",
       "    <tr>\n",
       "      <th>6075</th>\n",
       "      <td>join</td>\n",
       "      <td>457.571670</td>\n",
       "    </tr>\n",
       "    <tr>\n",
       "      <th>11826</th>\n",
       "      <td>world</td>\n",
       "      <td>455.032170</td>\n",
       "    </tr>\n",
       "    <tr>\n",
       "      <th>9646</th>\n",
       "      <td>service</td>\n",
       "      <td>444.910635</td>\n",
       "    </tr>\n",
       "    <tr>\n",
       "      <th>11378</th>\n",
       "      <td>use</td>\n",
       "      <td>424.018204</td>\n",
       "    </tr>\n",
       "    <tr>\n",
       "      <th>7361</th>\n",
       "      <td>need</td>\n",
       "      <td>421.997270</td>\n",
       "    </tr>\n",
       "    <tr>\n",
       "      <th>7100</th>\n",
       "      <td>mobile</td>\n",
       "      <td>397.210933</td>\n",
       "    </tr>\n",
       "    <tr>\n",
       "      <th>10084</th>\n",
       "      <td>speed</td>\n",
       "      <td>391.566263</td>\n",
       "    </tr>\n",
       "    <tr>\n",
       "      <th>10894</th>\n",
       "      <td>today</td>\n",
       "      <td>382.464670</td>\n",
       "    </tr>\n",
       "    <tr>\n",
       "      <th>265</th>\n",
       "      <td>2020</td>\n",
       "      <td>373.518367</td>\n",
       "    </tr>\n",
       "    <tr>\n",
       "      <th>5933</th>\n",
       "      <td>iot</td>\n",
       "      <td>364.682356</td>\n",
       "    </tr>\n",
       "    <tr>\n",
       "      <th>9995</th>\n",
       "      <td>solution</td>\n",
       "      <td>332.839261</td>\n",
       "    </tr>\n",
       "    <tr>\n",
       "      <th>9563</th>\n",
       "      <td>security</td>\n",
       "      <td>332.774672</td>\n",
       "    </tr>\n",
       "  </tbody>\n",
       "</table>\n",
       "</div>"
      ],
      "text/plain": [
       "            terms        tfidf\n",
       "7388      network  1058.472974\n",
       "7406          new   879.242328\n",
       "10661  technology   715.803552\n",
       "8797         read   690.055552\n",
       "4771       future   549.853865\n",
       "6350        learn   517.391042\n",
       "2060     business   485.267777\n",
       "5681     industry   469.688568\n",
       "6075         join   457.571670\n",
       "11826       world   455.032170\n",
       "9646      service   444.910635\n",
       "11378         use   424.018204\n",
       "7361         need   421.997270\n",
       "7100       mobile   397.210933\n",
       "10084       speed   391.566263\n",
       "10894       today   382.464670\n",
       "265          2020   373.518367\n",
       "5933          iot   364.682356\n",
       "9995     solution   332.839261\n",
       "9563     security   332.774672"
      ]
     },
     "execution_count": 55,
     "metadata": {},
     "output_type": "execute_result"
    }
   ],
   "source": [
    "occ = np.asarray(text_tfidf.sum(axis=0)).ravel().tolist()\n",
    "tfidf_scores = pd.DataFrame({'terms': tfidf_vectorizer.get_feature_names(), 'tfidf': occ})\n",
    "\n",
    "tfidf_scores.sort_values('tfidf',ascending=False).head(20)"
   ]
  },
  {
   "cell_type": "code",
   "execution_count": null,
   "metadata": {},
   "outputs": [],
   "source": []
  },
  {
   "cell_type": "code",
   "execution_count": 56,
   "metadata": {},
   "outputs": [],
   "source": [
    "#### NON-CONSPIRATORY HASHTAGS ####"
   ]
  },
  {
   "cell_type": "code",
   "execution_count": null,
   "metadata": {},
   "outputs": [],
   "source": []
  },
  {
   "cell_type": "code",
   "execution_count": 57,
   "metadata": {},
   "outputs": [
    {
     "data": {
      "text/plain": [
       "[('5g', 55105),\n",
       " ('iot', 10748),\n",
       " ('ai', 9679),\n",
       " ('bigdata', 3808),\n",
       " ('cloud', 3757),\n",
       " ('tech', 3602),\n",
       " ('digitaltransformation', 3363),\n",
       " ('machinelearning', 3023),\n",
       " ('technology', 2848),\n",
       " ('datascience', 2616),\n",
       " ('edge', 2425),\n",
       " ('cybersecurity', 2366),\n",
       " ('iiot', 2348),\n",
       " ('artificialintelligence', 1869),\n",
       " ('innovation', 1690)]"
      ]
     },
     "execution_count": 57,
     "metadata": {},
     "output_type": "execute_result"
    }
   ],
   "source": [
    "# flatten list of all words in all tweets and create a list of collections with the words and their counts\n",
    "\n",
    "import itertools\n",
    "import collections\n",
    "\n",
    "# List of all words across tweets\n",
    "all_non_conspiracy_hashtags = list(itertools.chain(*non_conspiracy_tweets['hashtags']))\n",
    "\n",
    "# Create counter\n",
    "counts_non_conspiracy_hashtags = collections.Counter(all_non_conspiracy_hashtags)\n",
    "\n",
    "counts_non_conspiracy_hashtags.most_common(15)"
   ]
  },
  {
   "cell_type": "code",
   "execution_count": 58,
   "metadata": {},
   "outputs": [
    {
     "data": {
      "text/html": [
       "<div>\n",
       "<style scoped>\n",
       "    .dataframe tbody tr th:only-of-type {\n",
       "        vertical-align: middle;\n",
       "    }\n",
       "\n",
       "    .dataframe tbody tr th {\n",
       "        vertical-align: top;\n",
       "    }\n",
       "\n",
       "    .dataframe thead th {\n",
       "        text-align: right;\n",
       "    }\n",
       "</style>\n",
       "<table border=\"1\" class=\"dataframe\">\n",
       "  <thead>\n",
       "    <tr style=\"text-align: right;\">\n",
       "      <th></th>\n",
       "      <th>words</th>\n",
       "      <th>count</th>\n",
       "    </tr>\n",
       "  </thead>\n",
       "  <tbody>\n",
       "    <tr>\n",
       "      <th>1</th>\n",
       "      <td>iot</td>\n",
       "      <td>10748</td>\n",
       "    </tr>\n",
       "    <tr>\n",
       "      <th>2</th>\n",
       "      <td>ai</td>\n",
       "      <td>9679</td>\n",
       "    </tr>\n",
       "    <tr>\n",
       "      <th>3</th>\n",
       "      <td>bigdata</td>\n",
       "      <td>3808</td>\n",
       "    </tr>\n",
       "    <tr>\n",
       "      <th>4</th>\n",
       "      <td>cloud</td>\n",
       "      <td>3757</td>\n",
       "    </tr>\n",
       "    <tr>\n",
       "      <th>5</th>\n",
       "      <td>tech</td>\n",
       "      <td>3602</td>\n",
       "    </tr>\n",
       "    <tr>\n",
       "      <th>6</th>\n",
       "      <td>digitaltransformation</td>\n",
       "      <td>3363</td>\n",
       "    </tr>\n",
       "    <tr>\n",
       "      <th>7</th>\n",
       "      <td>machinelearning</td>\n",
       "      <td>3023</td>\n",
       "    </tr>\n",
       "    <tr>\n",
       "      <th>8</th>\n",
       "      <td>technology</td>\n",
       "      <td>2848</td>\n",
       "    </tr>\n",
       "    <tr>\n",
       "      <th>9</th>\n",
       "      <td>datascience</td>\n",
       "      <td>2616</td>\n",
       "    </tr>\n",
       "    <tr>\n",
       "      <th>10</th>\n",
       "      <td>edge</td>\n",
       "      <td>2425</td>\n",
       "    </tr>\n",
       "  </tbody>\n",
       "</table>\n",
       "</div>"
      ],
      "text/plain": [
       "                    words  count\n",
       "1                     iot  10748\n",
       "2                      ai   9679\n",
       "3                 bigdata   3808\n",
       "4                   cloud   3757\n",
       "5                    tech   3602\n",
       "6   digitaltransformation   3363\n",
       "7         machinelearning   3023\n",
       "8              technology   2848\n",
       "9             datascience   2616\n",
       "10                   edge   2425"
      ]
     },
     "execution_count": 58,
     "metadata": {},
     "output_type": "execute_result"
    }
   ],
   "source": [
    "clean_non_conspiracy_hashtags = pd.DataFrame(counts_non_conspiracy_hashtags.most_common(50),\n",
    "                             columns=['words', 'count'])\n",
    "\n",
    "clean_non_conspiracy_hashtags = clean_non_conspiracy_hashtags[1:]\n",
    "clean_non_conspiracy_hashtags.head(10)"
   ]
  },
  {
   "cell_type": "code",
   "execution_count": 59,
   "metadata": {},
   "outputs": [
    {
     "data": {
      "image/png": "[encoded data removed]",
      "text/plain": [
       "<Figure size 576x576 with 1 Axes>"
      ]
     },
     "metadata": {
      "needs_background": "light"
     },
     "output_type": "display_data"
    }
   ],
   "source": [
    "from matplotlib import pyplot as plt\n",
    "\n",
    "fig, ax = plt.subplots(figsize=(8, 8))\n",
    "\n",
    "# Plot horizontal bar graph\n",
    "clean_non_conspiracy_hashtags.sort_values(by='count').plot.barh(x='words',\n",
    "                      y='count',\n",
    "                      ax=ax,\n",
    "                      color=\"purple\")\n",
    "\n",
    "ax.set_title(\"Most common hashtags found in non-conspiracy tweets\")\n",
    "\n",
    "plt.show()"
   ]
  },
  {
   "cell_type": "code",
   "execution_count": 60,
   "metadata": {},
   "outputs": [
    {
     "data": {
      "text/plain": [
       "1                       climatechange, ai, iot, renewables, data, fintech, insurtech, proptech, digitalbanks, openbanking, blockchain, marketing, retailtech, agrifarm, agritech, cx, govtech, 5g, edtech, sustainability, environment, sdgs\n",
       "2                                                                                                                                                                                                       mwlthemedweek, mobilemix, 5g, tattoo\n",
       "3                                                                                                                                                                                                           world5gconvention, guangzhou, 5g\n",
       "4                                                                                                                                                                                               5g, network, industry40, data, manufacturing\n",
       "5                                                                                                                                                                                                                                         5g\n",
       "6    growthmindset, startups, entrepreneurs, startup, marketing, marketing, growthhacking, bouncebacknow, tech, smallbiz, femtech, mpgvip, innovation, 5g, datascience, iot, javacript, motivation, womenintech, 100daysofcode, devcommunity\n",
       "7                       climatechange, ai, iot, renewables, data, fintech, insurtech, proptech, digitalbanks, openbanking, blockchain, marketing, retailtech, agrifarm, agritech, cx, govtech, 5g, edtech, sustainability, environment, sdgs\n",
       "Name: hashtags_cleaned, dtype: object"
      ]
     },
     "execution_count": 60,
     "metadata": {},
     "output_type": "execute_result"
    }
   ],
   "source": [
    "# turn lists of strings into strings, divided with commas\n",
    "\n",
    "def combineIntoString(x):\n",
    "    return ', '.join(x)\n",
    "\n",
    "non_conspiracy_tweets['hashtags_cleaned'] = non_conspiracy_tweets['hashtags'].apply(lambda x : combineIntoString(x))\n",
    "non_conspiracy_tweets['hashtags_cleaned'].head(7)"
   ]
  },
  {
   "cell_type": "code",
   "execution_count": 61,
   "metadata": {},
   "outputs": [],
   "source": [
    "from sklearn.feature_extraction.text import CountVectorizer\n",
    "from sklearn.feature_extraction.text import TfidfVectorizer\n",
    "\n",
    "def preProcessor(s):\n",
    "    # we did all the preprocessing already, so return as is\n",
    "    return s\n",
    "    \n",
    "pd.options.display.max_colwidth = 1000\n",
    "pd.set_option('display.max_columns', None)\n",
    "\n",
    "tfidf_vectorizer = TfidfVectorizer(preprocessor = preProcessor,\n",
    "                                   max_df=0.75, min_df=3, use_idf=True)\n",
    "\n",
    "text_tfidf = tfidf_vectorizer.fit_transform(non_conspiracy_tweets['hashtags_cleaned'])"
   ]
  },
  {
   "cell_type": "code",
   "execution_count": 62,
   "metadata": {},
   "outputs": [
    {
     "data": {
      "text/html": [
       "<div>\n",
       "<style scoped>\n",
       "    .dataframe tbody tr th:only-of-type {\n",
       "        vertical-align: middle;\n",
       "    }\n",
       "\n",
       "    .dataframe tbody tr th {\n",
       "        vertical-align: top;\n",
       "    }\n",
       "\n",
       "    .dataframe thead th {\n",
       "        text-align: right;\n",
       "    }\n",
       "</style>\n",
       "<table border=\"1\" class=\"dataframe\">\n",
       "  <thead>\n",
       "    <tr style=\"text-align: right;\">\n",
       "      <th></th>\n",
       "      <th>terms</th>\n",
       "      <th>tfidf</th>\n",
       "    </tr>\n",
       "  </thead>\n",
       "  <tbody>\n",
       "    <tr>\n",
       "      <th>3080</th>\n",
       "      <td>iot</td>\n",
       "      <td>2504.693681</td>\n",
       "    </tr>\n",
       "    <tr>\n",
       "      <th>373</th>\n",
       "      <td>ai</td>\n",
       "      <td>1980.090873</td>\n",
       "    </tr>\n",
       "    <tr>\n",
       "      <th>5439</th>\n",
       "      <td>teamericsson</td>\n",
       "      <td>1210.387683</td>\n",
       "    </tr>\n",
       "    <tr>\n",
       "      <th>1219</th>\n",
       "      <td>cloud</td>\n",
       "      <td>1050.641464</td>\n",
       "    </tr>\n",
       "    <tr>\n",
       "      <th>1755</th>\n",
       "      <td>digitaltransformation</td>\n",
       "      <td>1034.641936</td>\n",
       "    </tr>\n",
       "    <tr>\n",
       "      <th>5449</th>\n",
       "      <td>tech</td>\n",
       "      <td>896.543689</td>\n",
       "    </tr>\n",
       "    <tr>\n",
       "      <th>5486</th>\n",
       "      <td>technology</td>\n",
       "      <td>819.784031</td>\n",
       "    </tr>\n",
       "    <tr>\n",
       "      <th>1913</th>\n",
       "      <td>edge</td>\n",
       "      <td>782.016055</td>\n",
       "    </tr>\n",
       "    <tr>\n",
       "      <th>795</th>\n",
       "      <td>bigdata</td>\n",
       "      <td>734.076955</td>\n",
       "    </tr>\n",
       "    <tr>\n",
       "      <th>1918</th>\n",
       "      <td>edgecomputing</td>\n",
       "      <td>715.369739</td>\n",
       "    </tr>\n",
       "    <tr>\n",
       "      <th>3467</th>\n",
       "      <td>machinelearning</td>\n",
       "      <td>709.933293</td>\n",
       "    </tr>\n",
       "    <tr>\n",
       "      <th>4945</th>\n",
       "      <td>security</td>\n",
       "      <td>678.305284</td>\n",
       "    </tr>\n",
       "    <tr>\n",
       "      <th>1539</th>\n",
       "      <td>cybersecurity</td>\n",
       "      <td>674.450940</td>\n",
       "    </tr>\n",
       "    <tr>\n",
       "      <th>2812</th>\n",
       "      <td>huawei</td>\n",
       "      <td>664.363525</td>\n",
       "    </tr>\n",
       "    <tr>\n",
       "      <th>2902</th>\n",
       "      <td>iiot</td>\n",
       "      <td>584.060140</td>\n",
       "    </tr>\n",
       "    <tr>\n",
       "      <th>2985</th>\n",
       "      <td>innovation</td>\n",
       "      <td>544.676757</td>\n",
       "    </tr>\n",
       "    <tr>\n",
       "      <th>1600</th>\n",
       "      <td>datascience</td>\n",
       "      <td>541.452177</td>\n",
       "    </tr>\n",
       "    <tr>\n",
       "      <th>572</th>\n",
       "      <td>artificialintelligence</td>\n",
       "      <td>529.473908</td>\n",
       "    </tr>\n",
       "    <tr>\n",
       "      <th>6179</th>\n",
       "      <td>wireless</td>\n",
       "      <td>508.438313</td>\n",
       "    </tr>\n",
       "    <tr>\n",
       "      <th>2415</th>\n",
       "      <td>futureofwork</td>\n",
       "      <td>481.802574</td>\n",
       "    </tr>\n",
       "  </tbody>\n",
       "</table>\n",
       "</div>"
      ],
      "text/plain": [
       "                       terms        tfidf\n",
       "3080                     iot  2504.693681\n",
       "373                       ai  1980.090873\n",
       "5439            teamericsson  1210.387683\n",
       "1219                   cloud  1050.641464\n",
       "1755   digitaltransformation  1034.641936\n",
       "5449                    tech   896.543689\n",
       "5486              technology   819.784031\n",
       "1913                    edge   782.016055\n",
       "795                  bigdata   734.076955\n",
       "1918           edgecomputing   715.369739\n",
       "3467         machinelearning   709.933293\n",
       "4945                security   678.305284\n",
       "1539           cybersecurity   674.450940\n",
       "2812                  huawei   664.363525\n",
       "2902                    iiot   584.060140\n",
       "2985              innovation   544.676757\n",
       "1600             datascience   541.452177\n",
       "572   artificialintelligence   529.473908\n",
       "6179                wireless   508.438313\n",
       "2415            futureofwork   481.802574"
      ]
     },
     "execution_count": 62,
     "metadata": {},
     "output_type": "execute_result"
    }
   ],
   "source": [
    "occ = np.asarray(text_tfidf.sum(axis=0)).ravel().tolist()\n",
    "tfidf_scores = pd.DataFrame({'terms': tfidf_vectorizer.get_feature_names(), 'tfidf': occ})\n",
    "\n",
    "tfidf_scores.sort_values('tfidf',ascending=False).head(20)"
   ]
  },
  {
   "cell_type": "code",
   "execution_count": null,
   "metadata": {},
   "outputs": [],
   "source": []
  },
  {
   "cell_type": "code",
   "execution_count": 63,
   "metadata": {},
   "outputs": [],
   "source": [
    "#### SENTIMENT: NON-CONSPIRATORY #####"
   ]
  },
  {
   "cell_type": "code",
   "execution_count": 64,
   "metadata": {},
   "outputs": [],
   "source": [
    "# Analyze the sentiment with Vader\n",
    "# https://github.com/pjwebdev/Basic-Data-Science-Projects/blob/master/8-Twitter-Sentiment-Analysis/Tweeter%20Sentiment%20Analysis.ipynb\n",
    "\n",
    "from vaderSentiment.vaderSentiment import SentimentIntensityAnalyzer\n",
    "analyser = SentimentIntensityAnalyzer()\n",
    "\n",
    "scores = []\n",
    "\n",
    "for sentence in non_conspiracy_tweets['text']:\n",
    "    score = analyser.polarity_scores(sentence)\n",
    "    c = score['compound']\n",
    "    if c < 0:\n",
    "        value = 'Negative'\n",
    "    elif c == 0:\n",
    "        value = 'Neutral'\n",
    "    else:\n",
    "        value = 'Positive'\n",
    "    scores.append(value)\n",
    "\n",
    "non_conspiracy_tweets['sentiment'] = scores"
   ]
  },
  {
   "cell_type": "code",
   "execution_count": null,
   "metadata": {},
   "outputs": [],
   "source": []
  },
  {
   "cell_type": "code",
   "execution_count": 65,
   "metadata": {},
   "outputs": [
    {
     "data": {
      "text/plain": [
       "<BarContainer object of 3 artists>"
      ]
     },
     "execution_count": 65,
     "metadata": {},
     "output_type": "execute_result"
    },
    {
     "data": {
      "image/png": "[encoded data removed]",
      "text/plain": [
       "<Figure size 432x288 with 1 Axes>"
      ]
     },
     "metadata": {
      "needs_background": "light"
     },
     "output_type": "display_data"
    }
   ],
   "source": [
    "labels = non_conspiracy_tweets.groupby('sentiment').count().index.values\n",
    "\n",
    "values = non_conspiracy_tweets.groupby('sentiment').size().values\n",
    "\n",
    "axes = plt.gca()\n",
    "axes.set_ylim([0, 0.75])\n",
    "\n",
    "plt.bar(labels, values / non_conspiracy_tweets.shape[0] )"
   ]
  },
  {
   "cell_type": "code",
   "execution_count": 66,
   "metadata": {},
   "outputs": [
    {
     "name": "stdout",
     "output_type": "stream",
     "text": [
      "60.59 % of positive tweets\n"
     ]
    }
   ],
   "source": [
    "positive = non_conspiracy_tweets[non_conspiracy_tweets['sentiment'] == 'Positive']\n",
    "\n",
    "print(str(round(positive.shape[0]/(non_conspiracy_tweets.shape[0])*100, 2)) + \" % of positive tweets\")"
   ]
  },
  {
   "cell_type": "code",
   "execution_count": null,
   "metadata": {},
   "outputs": [],
   "source": []
  }
 ],
 "metadata": {
  "kernelspec": {
   "display_name": "Python 3",
   "language": "python",
   "name": "python3"
  },
  "language_info": {
   "codemirror_mode": {
    "name": "ipython",
    "version": 3
   },
   "file_extension": ".py",
   "mimetype": "text/x-python",
   "name": "python",
   "nbconvert_exporter": "python",
   "pygments_lexer": "ipython3",
   "version": "3.7.3"
  }
 },
 "nbformat": 4,
 "nbformat_minor": 4
}
