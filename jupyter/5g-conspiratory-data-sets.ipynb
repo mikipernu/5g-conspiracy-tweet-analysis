{
 "cells": [
  {
   "cell_type": "code",
   "execution_count": 1,
   "metadata": {},
   "outputs": [],
   "source": [
    "import pandas as pd\n",
    "pd.options.mode.chained_assignment = None  # default='warn'"
   ]
  },
  {
   "cell_type": "code",
   "execution_count": 2,
   "metadata": {},
   "outputs": [],
   "source": [
    "# CONSPIRATORY DATASET 1: #5Gcoronavirus\n",
    "## includes tweets with #5Gcoronavirus from between 15.10. – 25.11.2020\n",
    "\n",
    "tweets_5Gcoronavirus = '/$PATH/conspiratory/#5Gcoronavirus - Archive.csv'\n",
    "\n",
    "tweet_5Gcoronavirus_data = pd.read_csv(tweets_5Gcoronavirus, sep = \",\", engine='python')"
   ]
  },
  {
   "cell_type": "code",
   "execution_count": 3,
   "metadata": {},
   "outputs": [
    {
     "data": {
      "text/plain": [
       "(55, 19)"
      ]
     },
     "execution_count": 3,
     "metadata": {},
     "output_type": "execute_result"
    }
   ],
   "source": [
    "tweet_5Gcoronavirus_data.shape"
   ]
  },
  {
   "cell_type": "code",
   "execution_count": null,
   "metadata": {},
   "outputs": [],
   "source": []
  },
  {
   "cell_type": "code",
   "execution_count": 4,
   "metadata": {},
   "outputs": [],
   "source": [
    "# CONSPIRATORY DATASET 2: #BillGates AND 5G\n",
    "## includes tweets found with query '#BillGates AND 5G' from between 15.10. – 26.11.2020\n",
    "\n",
    "tweets_billgates = '/$PATH/conspiratory/#BillGates AND 5G - Archive.csv'\n",
    "\n",
    "tweet_billgates_data = pd.read_csv(tweets_billgates, sep = \",\", engine='python')"
   ]
  },
  {
   "cell_type": "code",
   "execution_count": 5,
   "metadata": {},
   "outputs": [
    {
     "data": {
      "text/plain": [
       "(795, 19)"
      ]
     },
     "execution_count": 5,
     "metadata": {},
     "output_type": "execute_result"
    }
   ],
   "source": [
    "tweet_billgates_data.shape"
   ]
  },
  {
   "cell_type": "code",
   "execution_count": null,
   "metadata": {},
   "outputs": [],
   "source": []
  },
  {
   "cell_type": "code",
   "execution_count": 21,
   "metadata": {},
   "outputs": [],
   "source": [
    "# CONSPIRATORY DATASET 3: #hoax AND 5G\n",
    "## includes tweets found with query '#hoax AND 5G' from between 17.10. – 23.11.2020\n",
    "\n",
    "tweets_hoax = '/$PATH/conspiratory/#hoax AND 5G  - Archive.csv'\n",
    "\n",
    "tweet_hoax_data = pd.read_csv(tweets_hoax, sep = \",\", engine='python')"
   ]
  },
  {
   "cell_type": "code",
   "execution_count": 9,
   "metadata": {},
   "outputs": [
    {
     "data": {
      "text/plain": [
       "(51, 19)"
      ]
     },
     "execution_count": 9,
     "metadata": {},
     "output_type": "execute_result"
    }
   ],
   "source": [
    "tweet_hoax_data.shape"
   ]
  },
  {
   "cell_type": "code",
   "execution_count": null,
   "metadata": {},
   "outputs": [],
   "source": []
  },
  {
   "cell_type": "code",
   "execution_count": null,
   "metadata": {},
   "outputs": [],
   "source": []
  },
  {
   "cell_type": "code",
   "execution_count": 22,
   "metadata": {},
   "outputs": [],
   "source": [
    "# CONSPIRATORY DATASET 4: #Stop5G\n",
    "## includes tweets found with hashtag #Stop5G from between 15.10. – 26.11.2020\n",
    "\n",
    "tweets_Stop5G = '/$PATH/conspiratory/#Stop5G - Archive.csv'\n",
    "\n",
    "tweet_Stop5G_data = pd.read_csv(tweets_Stop5G, sep = \",\", engine='python')"
   ]
  },
  {
   "cell_type": "code",
   "execution_count": 11,
   "metadata": {},
   "outputs": [
    {
     "data": {
      "text/plain": [
       "(2456, 19)"
      ]
     },
     "execution_count": 11,
     "metadata": {},
     "output_type": "execute_result"
    }
   ],
   "source": [
    "tweet_Stop5G_data.shape"
   ]
  },
  {
   "cell_type": "code",
   "execution_count": null,
   "metadata": {},
   "outputs": [],
   "source": []
  },
  {
   "cell_type": "code",
   "execution_count": 12,
   "metadata": {},
   "outputs": [],
   "source": [
    "#######################################################################################################################################\n",
    "#################################### Then we combine these four conspiratory data sets: ###############################################\n",
    "#######################################################################################################################################"
   ]
  },
  {
   "cell_type": "code",
   "execution_count": 13,
   "metadata": {},
   "outputs": [],
   "source": [
    "# Combine data sets above into one data set\n",
    "# https://stackoverflow.com/questions/20906474/import-multiple-csv-files-into-pandas-and-concatenate-into-one-dataframe\n",
    "import glob\n",
    "import os\n",
    "\n",
    "path = r'/$PATH/conspiratory/'\n",
    "all_files = glob.glob(os.path.join(path, \"*.csv\"))\n",
    "\n",
    "df_from_each_file = (pd.read_csv(f) for f in all_files)\n",
    "all_conspiracy_tweets = pd.concat(df_from_each_file, ignore_index=True)"
   ]
  },
  {
   "cell_type": "code",
   "execution_count": 14,
   "metadata": {},
   "outputs": [
    {
     "data": {
      "text/plain": [
       "(3357, 19)"
      ]
     },
     "execution_count": 14,
     "metadata": {},
     "output_type": "execute_result"
    }
   ],
   "source": [
    "# check that sum of rows and amount of columns is the same!\n",
    "all_conspiracy_tweets.shape"
   ]
  },
  {
   "cell_type": "code",
   "execution_count": null,
   "metadata": {},
   "outputs": [],
   "source": []
  },
  {
   "cell_type": "code",
   "execution_count": 16,
   "metadata": {},
   "outputs": [
    {
     "name": "stdout",
     "output_type": "stream",
     "text": [
      "Number of rows removed: 480/3357\n",
      "Percentage of tweets left is 85.7%\n"
     ]
    }
   ],
   "source": [
    "# drop duplicate tweets from all data sets (as we want a UNION of the data sets)\n",
    "# https://www.geeksforgeeks.org/python-pandas-dataframe-drop_duplicates/\n",
    "conspiracy_tweets = all_conspiracy_tweets.drop_duplicates(subset=None, keep='first', inplace=False)\n",
    "\n",
    "print('Number of rows removed: ' + str(all_conspiracy_tweets.shape[0] - conspiracy_tweets.shape[0]) + '/' + str(all_conspiracy_tweets.shape[0]) + '')\n",
    "print('Percentage of tweets left is ' + str(round(conspiracy_tweets.shape[0] / all_conspiracy_tweets.shape[0] * 100, 1)) + '%')"
   ]
  },
  {
   "cell_type": "code",
   "execution_count": 17,
   "metadata": {},
   "outputs": [
    {
     "data": {
      "text/plain": [
       "(2877, 19)"
      ]
     },
     "execution_count": 17,
     "metadata": {},
     "output_type": "execute_result"
    }
   ],
   "source": [
    "conspiracy_tweets.shape"
   ]
  },
  {
   "cell_type": "code",
   "execution_count": 18,
   "metadata": {},
   "outputs": [
    {
     "name": "stdout",
     "output_type": "stream",
     "text": [
      "Number of rows removed: 1970/3357\n",
      "Percentage of tweets left is 41.3%\n"
     ]
    }
   ],
   "source": [
    "# drop duplicate tweets with different id_str (some retweets cause this)\n",
    "# https://www.interviewqs.com/ddi_code_snippets/drop_duplicate_rows_pandas\n",
    "conspiracy_tweets = conspiracy_tweets.drop_duplicates(subset='text', keep=\"first\")\n",
    "\n",
    "print('Number of rows removed: ' + str(all_conspiracy_tweets.shape[0] - conspiracy_tweets.shape[0]) + '/' + str(all_conspiracy_tweets.shape[0]) + '')\n",
    "print('Percentage of tweets left is ' + str(round(conspiracy_tweets.shape[0] / all_conspiracy_tweets.shape[0] * 100, 1)) + '%')"
   ]
  },
  {
   "cell_type": "code",
   "execution_count": 19,
   "metadata": {},
   "outputs": [
    {
     "data": {
      "text/plain": [
       "(1387, 19)"
      ]
     },
     "execution_count": 19,
     "metadata": {},
     "output_type": "execute_result"
    }
   ],
   "source": [
    "conspiracy_tweets.shape"
   ]
  },
  {
   "cell_type": "code",
   "execution_count": null,
   "metadata": {},
   "outputs": [],
   "source": []
  },
  {
   "cell_type": "code",
   "execution_count": 20,
   "metadata": {},
   "outputs": [],
   "source": [
    "# Now we have our conspiracy tweets in a combined data set with duplicates removed.\n",
    "# Let's export the df into a .CSV file, so we can utilize it in the stop word creator:\n",
    "conspiracy_tweets.to_csv(r'/$PATH/conspiracy_tweets.csv', index = False)"
   ]
  },
  {
   "cell_type": "code",
   "execution_count": null,
   "metadata": {},
   "outputs": [],
   "source": []
  }
 ],
 "metadata": {
  "kernelspec": {
   "display_name": "Python 3",
   "language": "python",
   "name": "python3"
  },
  "language_info": {
   "codemirror_mode": {
    "name": "ipython",
    "version": 3
   },
   "file_extension": ".py",
   "mimetype": "text/x-python",
   "name": "python",
   "nbconvert_exporter": "python",
   "pygments_lexer": "ipython3",
   "version": "3.7.3"
  }
 },
 "nbformat": 4,
 "nbformat_minor": 4
}
